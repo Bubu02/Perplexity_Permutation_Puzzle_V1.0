{
 "cells": [
  {
   "cell_type": "code",
   "execution_count": 10,
   "metadata": {},
   "outputs": [
    {
     "data": {
      "text/html": [
       "<div>\n",
       "<style scoped>\n",
       "    .dataframe tbody tr th:only-of-type {\n",
       "        vertical-align: middle;\n",
       "    }\n",
       "\n",
       "    .dataframe tbody tr th {\n",
       "        vertical-align: top;\n",
       "    }\n",
       "\n",
       "    .dataframe thead th {\n",
       "        text-align: right;\n",
       "    }\n",
       "</style>\n",
       "<table border=\"1\" class=\"dataframe\">\n",
       "  <thead>\n",
       "    <tr style=\"text-align: right;\">\n",
       "      <th></th>\n",
       "      <th>id</th>\n",
       "      <th>text</th>\n",
       "    </tr>\n",
       "  </thead>\n",
       "  <tbody>\n",
       "    <tr>\n",
       "      <th>0</th>\n",
       "      <td>0</td>\n",
       "      <td>advent chimney elf family fireplace gingerbread mistletoe ornament reindeer scrooge</td>\n",
       "    </tr>\n",
       "    <tr>\n",
       "      <th>1</th>\n",
       "      <td>1</td>\n",
       "      <td>advent chimney elf family fireplace gingerbread mistletoe ornament reindeer scrooge walk give jump drive bake the sleep night laugh and</td>\n",
       "    </tr>\n",
       "    <tr>\n",
       "      <th>2</th>\n",
       "      <td>2</td>\n",
       "      <td>yuletide decorations gifts cheer holiday carol magi nutcracker polar grinch sleigh chimney workshop stocking ornament holly jingle beard naughty nice</td>\n",
       "    </tr>\n",
       "    <tr>\n",
       "      <th>3</th>\n",
       "      <td>3</td>\n",
       "      <td>yuletide decorations gifts cheer holiday carol magi nutcracker polar grinch sleigh chimney workshop stocking ornament holly jingle beard naughty nice sing cheer and of the is eat visit relax unwrap</td>\n",
       "    </tr>\n",
       "    <tr>\n",
       "      <th>4</th>\n",
       "      <td>4</td>\n",
       "      <td>hohoho candle poinsettia snowglobe peppermint eggnog fruitcake chocolate candy puzzle game doll toy workshop wonder believe dream hope peace joy merry season greeting card wrapping paper bow fireplace night cookie milk star wish wreath angel the to of and in that have it not with as you from we kaggle</td>\n",
       "    </tr>\n",
       "    <tr>\n",
       "      <th>5</th>\n",
       "      <td>5</td>\n",
       "      <td>advent chimney elf family fireplace gingerbread mistletoe ornament reindeer scrooge walk give jump drive bake the sleep night laugh and yuletide decorations gifts cheer holiday carol magi nutcracker polar grinch sleigh chimney workshop stocking ornament holly jingle beard naughty nice sing cheer and of the is eat visit relax unwrap hohoho candle poinsettia snowglobe peppermint eggnog fruitcake chocolate candy puzzle game doll toy workshop wonder believe dream hope peace joy merry season greeting card wrapping paper bow fireplace night cookie milk star wish wreath angel the to of and in that have it not with as you from we kaggle</td>\n",
       "    </tr>\n",
       "  </tbody>\n",
       "</table>\n",
       "</div>"
      ],
      "text/plain": [
       "   id                                                                                                                                                                                                                                                                                                                                                                                                                                                                                                                                                                                                                                                          text\n",
       "0   0                                                                                                                                                                                                                                                                                                                                                                                                                                                                                                                                                                           advent chimney elf family fireplace gingerbread mistletoe ornament reindeer scrooge\n",
       "1   1                                                                                                                                                                                                                                                                                                                                                                                                                                                                                                                       advent chimney elf family fireplace gingerbread mistletoe ornament reindeer scrooge walk give jump drive bake the sleep night laugh and\n",
       "2   2                                                                                                                                                                                                                                                                                                                                                                                                                                                                                                         yuletide decorations gifts cheer holiday carol magi nutcracker polar grinch sleigh chimney workshop stocking ornament holly jingle beard naughty nice\n",
       "3   3                                                                                                                                                                                                                                                                                                                                                                                                                                                         yuletide decorations gifts cheer holiday carol magi nutcracker polar grinch sleigh chimney workshop stocking ornament holly jingle beard naughty nice sing cheer and of the is eat visit relax unwrap\n",
       "4   4                                                                                                                                                                                                                                                                                                                                                hohoho candle poinsettia snowglobe peppermint eggnog fruitcake chocolate candy puzzle game doll toy workshop wonder believe dream hope peace joy merry season greeting card wrapping paper bow fireplace night cookie milk star wish wreath angel the to of and in that have it not with as you from we kaggle\n",
       "5   5  advent chimney elf family fireplace gingerbread mistletoe ornament reindeer scrooge walk give jump drive bake the sleep night laugh and yuletide decorations gifts cheer holiday carol magi nutcracker polar grinch sleigh chimney workshop stocking ornament holly jingle beard naughty nice sing cheer and of the is eat visit relax unwrap hohoho candle poinsettia snowglobe peppermint eggnog fruitcake chocolate candy puzzle game doll toy workshop wonder believe dream hope peace joy merry season greeting card wrapping paper bow fireplace night cookie milk star wish wreath angel the to of and in that have it not with as you from we kaggle"
      ]
     },
     "execution_count": 10,
     "metadata": {},
     "output_type": "execute_result"
    }
   ],
   "source": [
    "import pandas as pd\n",
    "import spacy\n",
    "\n",
    "# adjusting display options\n",
    "pd.set_option('display.max_colwidth', None)\n",
    "\n",
    "df = pd.read_csv('../Dataset/sample_submission.csv')\n",
    "n_rows = df.shape[0]\n",
    "df"
   ]
  },
  {
   "cell_type": "code",
   "execution_count": 11,
   "metadata": {},
   "outputs": [
    {
     "name": "stdout",
     "output_type": "stream",
     "text": [
      "Vocabulary Size: 6\n"
     ]
    }
   ],
   "source": [
    "import spacy\n",
    "\n",
    "# Load spaCy's English language model\n",
    "nlp = spacy.load('en_core_web_sm')\n",
    "\n",
    "# Create vocabulary (reuse from your training phase)\n",
    "tokenized_lines = [[\"example\", \"tokens\"], [\"for\", \"vocabulary\", \"creation\"]]\n",
    "vocab = {word: i for i, word in enumerate(set(word for tokens in tokenized_lines for word in tokens))}\n",
    "vocab['unk'] = len(vocab)  # Adding 'unk' for unknown tokens\n",
    "\n",
    "# Display the updated vocabulary size for verification\n",
    "print(\"Vocabulary Size:\", len(vocab))"
   ]
  },
  {
   "cell_type": "code",
   "execution_count": 12,
   "metadata": {},
   "outputs": [
    {
     "name": "stderr",
     "output_type": "stream",
     "text": [
      "C:\\Users\\mebub_9a7jdi8\\AppData\\Roaming\\Python\\Python312\\site-packages\\keras\\src\\layers\\core\\embedding.py:90: UserWarning: Argument `input_length` is deprecated. Just remove it.\n",
      "  warnings.warn(\n"
     ]
    },
    {
     "data": {
      "text/html": [
       "<pre style=\"white-space:pre;overflow-x:auto;line-height:normal;font-family:Menlo,'DejaVu Sans Mono',consolas,'Courier New',monospace\"><span style=\"font-weight: bold\">Model: \"sequential_1\"</span>\n",
       "</pre>\n"
      ],
      "text/plain": [
       "\u001b[1mModel: \"sequential_1\"\u001b[0m\n"
      ]
     },
     "metadata": {},
     "output_type": "display_data"
    },
    {
     "data": {
      "text/html": [
       "<pre style=\"white-space:pre;overflow-x:auto;line-height:normal;font-family:Menlo,'DejaVu Sans Mono',consolas,'Courier New',monospace\">┏━━━━━━━━━━━━━━━━━━━━━━━━━━━━━━━━━┳━━━━━━━━━━━━━━━━━━━━━━━━┳━━━━━━━━━━━━━━━┓\n",
       "┃<span style=\"font-weight: bold\"> Layer (type)                    </span>┃<span style=\"font-weight: bold\"> Output Shape           </span>┃<span style=\"font-weight: bold\">       Param # </span>┃\n",
       "┡━━━━━━━━━━━━━━━━━━━━━━━━━━━━━━━━━╇━━━━━━━━━━━━━━━━━━━━━━━━╇━━━━━━━━━━━━━━━┩\n",
       "│ embedding_1 (<span style=\"color: #0087ff; text-decoration-color: #0087ff\">Embedding</span>)         │ ?                      │   <span style=\"color: #00af00; text-decoration-color: #00af00\">0</span> (unbuilt) │\n",
       "├─────────────────────────────────┼────────────────────────┼───────────────┤\n",
       "│ lstm_2 (<span style=\"color: #0087ff; text-decoration-color: #0087ff\">LSTM</span>)                   │ ?                      │   <span style=\"color: #00af00; text-decoration-color: #00af00\">0</span> (unbuilt) │\n",
       "├─────────────────────────────────┼────────────────────────┼───────────────┤\n",
       "│ lstm_3 (<span style=\"color: #0087ff; text-decoration-color: #0087ff\">LSTM</span>)                   │ ?                      │   <span style=\"color: #00af00; text-decoration-color: #00af00\">0</span> (unbuilt) │\n",
       "├─────────────────────────────────┼────────────────────────┼───────────────┤\n",
       "│ dense_1 (<span style=\"color: #0087ff; text-decoration-color: #0087ff\">Dense</span>)                 │ ?                      │   <span style=\"color: #00af00; text-decoration-color: #00af00\">0</span> (unbuilt) │\n",
       "└─────────────────────────────────┴────────────────────────┴───────────────┘\n",
       "</pre>\n"
      ],
      "text/plain": [
       "┏━━━━━━━━━━━━━━━━━━━━━━━━━━━━━━━━━┳━━━━━━━━━━━━━━━━━━━━━━━━┳━━━━━━━━━━━━━━━┓\n",
       "┃\u001b[1m \u001b[0m\u001b[1mLayer (type)                   \u001b[0m\u001b[1m \u001b[0m┃\u001b[1m \u001b[0m\u001b[1mOutput Shape          \u001b[0m\u001b[1m \u001b[0m┃\u001b[1m \u001b[0m\u001b[1m      Param #\u001b[0m\u001b[1m \u001b[0m┃\n",
       "┡━━━━━━━━━━━━━━━━━━━━━━━━━━━━━━━━━╇━━━━━━━━━━━━━━━━━━━━━━━━╇━━━━━━━━━━━━━━━┩\n",
       "│ embedding_1 (\u001b[38;5;33mEmbedding\u001b[0m)         │ ?                      │   \u001b[38;5;34m0\u001b[0m (unbuilt) │\n",
       "├─────────────────────────────────┼────────────────────────┼───────────────┤\n",
       "│ lstm_2 (\u001b[38;5;33mLSTM\u001b[0m)                   │ ?                      │   \u001b[38;5;34m0\u001b[0m (unbuilt) │\n",
       "├─────────────────────────────────┼────────────────────────┼───────────────┤\n",
       "│ lstm_3 (\u001b[38;5;33mLSTM\u001b[0m)                   │ ?                      │   \u001b[38;5;34m0\u001b[0m (unbuilt) │\n",
       "├─────────────────────────────────┼────────────────────────┼───────────────┤\n",
       "│ dense_1 (\u001b[38;5;33mDense\u001b[0m)                 │ ?                      │   \u001b[38;5;34m0\u001b[0m (unbuilt) │\n",
       "└─────────────────────────────────┴────────────────────────┴───────────────┘\n"
      ]
     },
     "metadata": {},
     "output_type": "display_data"
    },
    {
     "data": {
      "text/html": [
       "<pre style=\"white-space:pre;overflow-x:auto;line-height:normal;font-family:Menlo,'DejaVu Sans Mono',consolas,'Courier New',monospace\"><span style=\"font-weight: bold\"> Total params: </span><span style=\"color: #00af00; text-decoration-color: #00af00\">0</span> (0.00 B)\n",
       "</pre>\n"
      ],
      "text/plain": [
       "\u001b[1m Total params: \u001b[0m\u001b[38;5;34m0\u001b[0m (0.00 B)\n"
      ]
     },
     "metadata": {},
     "output_type": "display_data"
    },
    {
     "data": {
      "text/html": [
       "<pre style=\"white-space:pre;overflow-x:auto;line-height:normal;font-family:Menlo,'DejaVu Sans Mono',consolas,'Courier New',monospace\"><span style=\"font-weight: bold\"> Trainable params: </span><span style=\"color: #00af00; text-decoration-color: #00af00\">0</span> (0.00 B)\n",
       "</pre>\n"
      ],
      "text/plain": [
       "\u001b[1m Trainable params: \u001b[0m\u001b[38;5;34m0\u001b[0m (0.00 B)\n"
      ]
     },
     "metadata": {},
     "output_type": "display_data"
    },
    {
     "data": {
      "text/html": [
       "<pre style=\"white-space:pre;overflow-x:auto;line-height:normal;font-family:Menlo,'DejaVu Sans Mono',consolas,'Courier New',monospace\"><span style=\"font-weight: bold\"> Non-trainable params: </span><span style=\"color: #00af00; text-decoration-color: #00af00\">0</span> (0.00 B)\n",
       "</pre>\n"
      ],
      "text/plain": [
       "\u001b[1m Non-trainable params: \u001b[0m\u001b[38;5;34m0\u001b[0m (0.00 B)\n"
      ]
     },
     "metadata": {},
     "output_type": "display_data"
    }
   ],
   "source": [
    "from tensorflow.keras.models import Sequential\n",
    "from tensorflow.keras.layers import Embedding, LSTM, Dense\n",
    "\n",
    "# Calculate max_len based on the training data (example value, adjust as necessary)\n",
    "max_len = 100  # Adjust this value based on your actual data\n",
    "\n",
    "# Define the LSTM model\n",
    "model = Sequential()\n",
    "model.add(Embedding(input_dim=len(vocab), output_dim=128, input_length=max_len))\n",
    "model.add(LSTM(128, return_sequences=True))\n",
    "model.add(LSTM(128, return_sequences=True))  # Ensure this returns sequences\n",
    "model.add(Dense(len(vocab), activation='softmax'))\n",
    "\n",
    "# Compile the model\n",
    "model.compile(loss='categorical_crossentropy', optimizer='adam', metrics=['accuracy'])\n",
    "\n",
    "# Display the model summary\n",
    "model.summary()"
   ]
  },
  {
   "cell_type": "code",
   "execution_count": 13,
   "metadata": {},
   "outputs": [
    {
     "name": "stdout",
     "output_type": "stream",
     "text": [
      "\u001b[1m1/1\u001b[0m \u001b[32m━━━━━━━━━━━━━━━━━━━━\u001b[0m\u001b[37m\u001b[0m \u001b[1m1s\u001b[0m 655ms/step\n",
      "\u001b[1m1/1\u001b[0m \u001b[32m━━━━━━━━━━━━━━━━━━━━\u001b[0m\u001b[37m\u001b[0m \u001b[1m0s\u001b[0m 25ms/step\n",
      "\u001b[1m1/1\u001b[0m \u001b[32m━━━━━━━━━━━━━━━━━━━━\u001b[0m\u001b[37m\u001b[0m \u001b[1m0s\u001b[0m 38ms/step\n",
      "\u001b[1m1/1\u001b[0m \u001b[32m━━━━━━━━━━━━━━━━━━━━\u001b[0m\u001b[37m\u001b[0m \u001b[1m0s\u001b[0m 37ms/step\n",
      "\u001b[1m1/1\u001b[0m \u001b[32m━━━━━━━━━━━━━━━━━━━━\u001b[0m\u001b[37m\u001b[0m \u001b[1m0s\u001b[0m 30ms/step\n",
      "\u001b[1m1/1\u001b[0m \u001b[32m━━━━━━━━━━━━━━━━━━━━\u001b[0m\u001b[37m\u001b[0m \u001b[1m0s\u001b[0m 31ms/step\n",
      "Predicted Texts:\n",
      " ['vocabulary vocabulary vocabulary vocabulary vocabulary vocabulary vocabulary vocabulary vocabulary vocabulary vocabulary vocabulary creation creation creation creation creation creation creation creation creation creation creation creation creation creation creation creation creation creation creation vocabulary vocabulary vocabulary vocabulary vocabulary vocabulary vocabulary vocabulary vocabulary vocabulary vocabulary vocabulary vocabulary vocabulary vocabulary vocabulary vocabulary vocabulary vocabulary vocabulary vocabulary vocabulary vocabulary vocabulary vocabulary vocabulary vocabulary vocabulary vocabulary vocabulary vocabulary vocabulary vocabulary vocabulary vocabulary vocabulary vocabulary vocabulary vocabulary vocabulary vocabulary vocabulary vocabulary vocabulary vocabulary vocabulary vocabulary vocabulary vocabulary vocabulary vocabulary vocabulary vocabulary vocabulary vocabulary vocabulary vocabulary vocabulary vocabulary vocabulary vocabulary vocabulary vocabulary vocabulary vocabulary vocabulary vocabulary vocabulary vocabulary', 'vocabulary vocabulary vocabulary vocabulary vocabulary vocabulary vocabulary vocabulary vocabulary vocabulary vocabulary vocabulary vocabulary vocabulary vocabulary vocabulary vocabulary creation creation creation creation creation creation creation creation creation creation creation creation creation creation creation creation creation creation creation creation creation creation creation creation creation vocabulary vocabulary vocabulary vocabulary vocabulary vocabulary vocabulary vocabulary vocabulary vocabulary vocabulary vocabulary vocabulary vocabulary vocabulary vocabulary vocabulary vocabulary vocabulary vocabulary vocabulary vocabulary vocabulary vocabulary vocabulary vocabulary vocabulary vocabulary vocabulary vocabulary vocabulary vocabulary vocabulary vocabulary vocabulary vocabulary vocabulary vocabulary vocabulary vocabulary vocabulary vocabulary vocabulary vocabulary vocabulary vocabulary vocabulary vocabulary vocabulary vocabulary vocabulary vocabulary vocabulary vocabulary vocabulary vocabulary vocabulary vocabulary', 'vocabulary vocabulary vocabulary vocabulary vocabulary vocabulary vocabulary vocabulary vocabulary vocabulary vocabulary vocabulary vocabulary vocabulary vocabulary vocabulary vocabulary creation creation creation creation creation creation creation creation creation creation creation creation creation creation creation creation creation creation creation creation creation creation creation creation creation vocabulary vocabulary vocabulary vocabulary vocabulary vocabulary vocabulary vocabulary vocabulary vocabulary vocabulary vocabulary vocabulary vocabulary vocabulary vocabulary vocabulary vocabulary vocabulary vocabulary vocabulary vocabulary vocabulary vocabulary vocabulary vocabulary vocabulary vocabulary vocabulary vocabulary vocabulary vocabulary vocabulary vocabulary vocabulary vocabulary vocabulary vocabulary vocabulary vocabulary vocabulary vocabulary vocabulary vocabulary vocabulary vocabulary vocabulary vocabulary vocabulary vocabulary vocabulary vocabulary vocabulary vocabulary vocabulary vocabulary vocabulary vocabulary', 'vocabulary vocabulary vocabulary vocabulary vocabulary vocabulary vocabulary vocabulary vocabulary vocabulary vocabulary vocabulary vocabulary vocabulary vocabulary vocabulary vocabulary creation creation creation creation creation creation creation creation creation creation creation creation creation creation creation creation creation creation creation creation creation creation creation creation creation creation creation creation creation creation creation creation creation creation creation vocabulary vocabulary vocabulary vocabulary vocabulary vocabulary vocabulary vocabulary vocabulary vocabulary vocabulary vocabulary vocabulary vocabulary vocabulary vocabulary vocabulary vocabulary vocabulary vocabulary vocabulary vocabulary vocabulary vocabulary vocabulary vocabulary vocabulary vocabulary vocabulary vocabulary vocabulary vocabulary vocabulary vocabulary vocabulary vocabulary vocabulary vocabulary vocabulary vocabulary vocabulary vocabulary vocabulary vocabulary vocabulary vocabulary vocabulary vocabulary', 'vocabulary vocabulary vocabulary vocabulary vocabulary vocabulary vocabulary vocabulary vocabulary vocabulary vocabulary vocabulary vocabulary vocabulary vocabulary vocabulary vocabulary creation creation creation creation creation creation creation creation creation creation creation creation creation creation creation creation creation creation creation creation creation creation creation creation creation creation creation creation creation creation creation creation creation creation creation creation creation creation creation creation creation creation creation creation creation creation creation creation creation creation creation creation creation creation creation vocabulary vocabulary vocabulary vocabulary vocabulary vocabulary vocabulary vocabulary vocabulary vocabulary vocabulary vocabulary vocabulary vocabulary vocabulary vocabulary vocabulary vocabulary vocabulary vocabulary vocabulary vocabulary vocabulary vocabulary vocabulary vocabulary vocabulary vocabulary', 'vocabulary vocabulary vocabulary vocabulary vocabulary vocabulary vocabulary vocabulary vocabulary vocabulary vocabulary vocabulary vocabulary vocabulary vocabulary vocabulary vocabulary creation creation creation creation creation creation creation creation creation creation creation creation creation creation creation creation creation creation creation creation creation creation creation creation creation creation creation creation creation creation creation creation creation creation creation creation creation creation creation creation creation creation creation creation creation creation creation creation creation creation creation creation creation creation creation creation creation creation creation creation creation creation creation creation creation creation creation creation creation creation creation creation creation creation creation creation creation creation creation creation creation creation creation']\n"
     ]
    }
   ],
   "source": [
    "from tensorflow.keras.preprocessing.sequence import pad_sequences\n",
    "\n",
    "# Prepare sequence for prediction\n",
    "def prepare_sequence(text, vocab):\n",
    "    tokens = text.lower().split()\n",
    "    indices = [vocab.get(token, vocab['unk']) for token in tokens]  # Using 'unk' for unknown tokens\n",
    "    return indices\n",
    "\n",
    "# Decode predictions\n",
    "def decode_predictions(preds, vocab):\n",
    "    inv_vocab = {v: k for k, v in vocab.items()}\n",
    "    decoded_sequences = []\n",
    "    for pred in preds:\n",
    "        decoded_sequence = []\n",
    "        for word_probs in pred:\n",
    "            decoded_sequence.append(inv_vocab[np.argmax(word_probs)])\n",
    "        decoded_sequences.append(decoded_sequence)\n",
    "    return decoded_sequences\n",
    "\n",
    "# Prepare each row, pad and predict\n",
    "predicted_texts = []\n",
    "for text in df['text']:\n",
    "    sequence = prepare_sequence(text, vocab)\n",
    "    padded_sequence = pad_sequences([sequence], maxlen=max_len, padding='post')\n",
    "    prediction = model.predict(padded_sequence)\n",
    "    decoded_sequence = decode_predictions(prediction, vocab)[0]\n",
    "    predicted_texts.append(' '.join(decoded_sequence))\n",
    "\n",
    "# Display predicted texts for verification\n",
    "print(\"Predicted Texts:\\n\", predicted_texts)"
   ]
  },
  {
   "cell_type": "code",
   "execution_count": 14,
   "metadata": {},
   "outputs": [
    {
     "name": "stdout",
     "output_type": "stream",
     "text": [
      "Submission file created successfully!\n"
     ]
    }
   ],
   "source": [
    "# Add predictions to the DataFrame\n",
    "df['predicted_text'] = predicted_texts\n",
    "\n",
    "# Save to CSV\n",
    "df[['id', 'predicted_text']].to_csv('../Submission File/submission.csv', index=False)\n",
    "\n",
    "print(\"Submission file created successfully!\")"
   ]
  }
 ],
 "metadata": {
  "kernelspec": {
   "display_name": "Kaggle",
   "language": "python",
   "name": "python3"
  },
  "language_info": {
   "codemirror_mode": {
    "name": "ipython",
    "version": 3
   },
   "file_extension": ".py",
   "mimetype": "text/x-python",
   "name": "python",
   "nbconvert_exporter": "python",
   "pygments_lexer": "ipython3",
   "version": "3.12.7"
  }
 },
 "nbformat": 4,
 "nbformat_minor": 2
}
