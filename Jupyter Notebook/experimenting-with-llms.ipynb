{
 "cells": [
  {
   "cell_type": "code",
   "execution_count": 1,
   "id": "0b5ea85e",
   "metadata": {
    "_kg_hide-output": true,
    "execution": {
     "iopub.execute_input": "2024-11-22T16:11:42.186637Z",
     "iopub.status.busy": "2024-11-22T16:11:42.186040Z",
     "iopub.status.idle": "2024-11-22T16:12:04.620655Z",
     "shell.execute_reply": "2024-11-22T16:12:04.619594Z"
    },
    "papermill": {
     "duration": 22.441177,
     "end_time": "2024-11-22T16:12:04.622731",
     "exception": false,
     "start_time": "2024-11-22T16:11:42.181554",
     "status": "completed"
    },
    "tags": []
   },
   "outputs": [
    {
     "name": "stdout",
     "output_type": "stream",
     "text": [
      "Requirement already satisfied: keras-nlp in /opt/conda/lib/python3.10/site-packages (0.7.0)\r\n",
      "Collecting keras-nlp\r\n",
      "  Downloading keras_nlp-0.17.0-py3-none-any.whl.metadata (1.2 kB)\r\n",
      "Collecting keras-hub==0.17.0 (from keras-nlp)\r\n",
      "  Downloading keras_hub-0.17.0-py3-none-any.whl.metadata (7.4 kB)\r\n",
      "Requirement already satisfied: absl-py in /opt/conda/lib/python3.10/site-packages (from keras-hub==0.17.0->keras-nlp) (1.4.0)\r\n",
      "Requirement already satisfied: numpy in /opt/conda/lib/python3.10/site-packages (from keras-hub==0.17.0->keras-nlp) (1.24.4)\r\n",
      "Requirement already satisfied: packaging in /opt/conda/lib/python3.10/site-packages (from keras-hub==0.17.0->keras-nlp) (21.3)\r\n",
      "Requirement already satisfied: regex in /opt/conda/lib/python3.10/site-packages (from keras-hub==0.17.0->keras-nlp) (2023.12.25)\r\n",
      "Requirement already satisfied: rich in /opt/conda/lib/python3.10/site-packages (from keras-hub==0.17.0->keras-nlp) (13.7.0)\r\n",
      "Requirement already satisfied: kagglehub in /opt/conda/lib/python3.10/site-packages (from keras-hub==0.17.0->keras-nlp) (0.1.6)\r\n",
      "Requirement already satisfied: tensorflow-text in /opt/conda/lib/python3.10/site-packages (from keras-hub==0.17.0->keras-nlp) (2.15.0)\r\n",
      "Requirement already satisfied: requests in /opt/conda/lib/python3.10/site-packages (from kagglehub->keras-hub==0.17.0->keras-nlp) (2.31.0)\r\n",
      "Requirement already satisfied: tqdm in /opt/conda/lib/python3.10/site-packages (from kagglehub->keras-hub==0.17.0->keras-nlp) (4.66.1)\r\n",
      "Requirement already satisfied: pyparsing!=3.0.5,>=2.0.2 in /opt/conda/lib/python3.10/site-packages (from packaging->keras-hub==0.17.0->keras-nlp) (3.1.1)\r\n",
      "Requirement already satisfied: markdown-it-py>=2.2.0 in /opt/conda/lib/python3.10/site-packages (from rich->keras-hub==0.17.0->keras-nlp) (3.0.0)\r\n",
      "Requirement already satisfied: pygments<3.0.0,>=2.13.0 in /opt/conda/lib/python3.10/site-packages (from rich->keras-hub==0.17.0->keras-nlp) (2.17.2)\r\n",
      "Requirement already satisfied: tensorflow-hub>=0.13.0 in /opt/conda/lib/python3.10/site-packages (from tensorflow-text->keras-hub==0.17.0->keras-nlp) (0.15.0)\r\n",
      "Requirement already satisfied: tensorflow<2.16,>=2.15.0 in /opt/conda/lib/python3.10/site-packages (from tensorflow-text->keras-hub==0.17.0->keras-nlp) (2.15.0)\r\n",
      "Requirement already satisfied: mdurl~=0.1 in /opt/conda/lib/python3.10/site-packages (from markdown-it-py>=2.2.0->rich->keras-hub==0.17.0->keras-nlp) (0.1.2)\r\n",
      "Requirement already satisfied: astunparse>=1.6.0 in /opt/conda/lib/python3.10/site-packages (from tensorflow<2.16,>=2.15.0->tensorflow-text->keras-hub==0.17.0->keras-nlp) (1.6.3)\r\n",
      "Requirement already satisfied: flatbuffers>=23.5.26 in /opt/conda/lib/python3.10/site-packages (from tensorflow<2.16,>=2.15.0->tensorflow-text->keras-hub==0.17.0->keras-nlp) (23.5.26)\r\n",
      "Requirement already satisfied: gast!=0.5.0,!=0.5.1,!=0.5.2,>=0.2.1 in /opt/conda/lib/python3.10/site-packages (from tensorflow<2.16,>=2.15.0->tensorflow-text->keras-hub==0.17.0->keras-nlp) (0.5.4)\r\n",
      "Requirement already satisfied: google-pasta>=0.1.1 in /opt/conda/lib/python3.10/site-packages (from tensorflow<2.16,>=2.15.0->tensorflow-text->keras-hub==0.17.0->keras-nlp) (0.2.0)\r\n",
      "Requirement already satisfied: h5py>=2.9.0 in /opt/conda/lib/python3.10/site-packages (from tensorflow<2.16,>=2.15.0->tensorflow-text->keras-hub==0.17.0->keras-nlp) (3.10.0)\r\n",
      "Requirement already satisfied: libclang>=13.0.0 in /opt/conda/lib/python3.10/site-packages (from tensorflow<2.16,>=2.15.0->tensorflow-text->keras-hub==0.17.0->keras-nlp) (16.0.6)\r\n",
      "Requirement already satisfied: ml-dtypes~=0.2.0 in /opt/conda/lib/python3.10/site-packages (from tensorflow<2.16,>=2.15.0->tensorflow-text->keras-hub==0.17.0->keras-nlp) (0.2.0)\r\n",
      "Requirement already satisfied: opt-einsum>=2.3.2 in /opt/conda/lib/python3.10/site-packages (from tensorflow<2.16,>=2.15.0->tensorflow-text->keras-hub==0.17.0->keras-nlp) (3.3.0)\r\n",
      "Requirement already satisfied: protobuf!=4.21.0,!=4.21.1,!=4.21.2,!=4.21.3,!=4.21.4,!=4.21.5,<5.0.0dev,>=3.20.3 in /opt/conda/lib/python3.10/site-packages (from tensorflow<2.16,>=2.15.0->tensorflow-text->keras-hub==0.17.0->keras-nlp) (3.20.3)\r\n",
      "Requirement already satisfied: setuptools in /opt/conda/lib/python3.10/site-packages (from tensorflow<2.16,>=2.15.0->tensorflow-text->keras-hub==0.17.0->keras-nlp) (69.0.3)\r\n",
      "Requirement already satisfied: six>=1.12.0 in /opt/conda/lib/python3.10/site-packages (from tensorflow<2.16,>=2.15.0->tensorflow-text->keras-hub==0.17.0->keras-nlp) (1.16.0)\r\n",
      "Requirement already satisfied: termcolor>=1.1.0 in /opt/conda/lib/python3.10/site-packages (from tensorflow<2.16,>=2.15.0->tensorflow-text->keras-hub==0.17.0->keras-nlp) (2.4.0)\r\n",
      "Requirement already satisfied: typing-extensions>=3.6.6 in /opt/conda/lib/python3.10/site-packages (from tensorflow<2.16,>=2.15.0->tensorflow-text->keras-hub==0.17.0->keras-nlp) (4.9.0)\r\n",
      "Requirement already satisfied: wrapt<1.15,>=1.11.0 in /opt/conda/lib/python3.10/site-packages (from tensorflow<2.16,>=2.15.0->tensorflow-text->keras-hub==0.17.0->keras-nlp) (1.14.1)\r\n",
      "Requirement already satisfied: tensorflow-io-gcs-filesystem>=0.23.1 in /opt/conda/lib/python3.10/site-packages (from tensorflow<2.16,>=2.15.0->tensorflow-text->keras-hub==0.17.0->keras-nlp) (0.35.0)\r\n",
      "Requirement already satisfied: grpcio<2.0,>=1.24.3 in /opt/conda/lib/python3.10/site-packages (from tensorflow<2.16,>=2.15.0->tensorflow-text->keras-hub==0.17.0->keras-nlp) (1.51.1)\r\n",
      "Requirement already satisfied: tensorboard<2.16,>=2.15 in /opt/conda/lib/python3.10/site-packages (from tensorflow<2.16,>=2.15.0->tensorflow-text->keras-hub==0.17.0->keras-nlp) (2.15.1)\r\n",
      "Requirement already satisfied: tensorflow-estimator<2.16,>=2.15.0 in /opt/conda/lib/python3.10/site-packages (from tensorflow<2.16,>=2.15.0->tensorflow-text->keras-hub==0.17.0->keras-nlp) (2.15.0)\r\n",
      "Requirement already satisfied: keras<2.16,>=2.15.0 in /opt/conda/lib/python3.10/site-packages (from tensorflow<2.16,>=2.15.0->tensorflow-text->keras-hub==0.17.0->keras-nlp) (2.15.0)\r\n",
      "Requirement already satisfied: charset-normalizer<4,>=2 in /opt/conda/lib/python3.10/site-packages (from requests->kagglehub->keras-hub==0.17.0->keras-nlp) (3.3.2)\r\n",
      "Requirement already satisfied: idna<4,>=2.5 in /opt/conda/lib/python3.10/site-packages (from requests->kagglehub->keras-hub==0.17.0->keras-nlp) (3.6)\r\n",
      "Requirement already satisfied: urllib3<3,>=1.21.1 in /opt/conda/lib/python3.10/site-packages (from requests->kagglehub->keras-hub==0.17.0->keras-nlp) (1.26.18)\r\n",
      "Requirement already satisfied: certifi>=2017.4.17 in /opt/conda/lib/python3.10/site-packages (from requests->kagglehub->keras-hub==0.17.0->keras-nlp) (2023.11.17)\r\n",
      "Requirement already satisfied: wheel<1.0,>=0.23.0 in /opt/conda/lib/python3.10/site-packages (from astunparse>=1.6.0->tensorflow<2.16,>=2.15.0->tensorflow-text->keras-hub==0.17.0->keras-nlp) (0.42.0)\r\n",
      "Requirement already satisfied: google-auth<3,>=1.6.3 in /opt/conda/lib/python3.10/site-packages (from tensorboard<2.16,>=2.15->tensorflow<2.16,>=2.15.0->tensorflow-text->keras-hub==0.17.0->keras-nlp) (2.26.1)\r\n",
      "Requirement already satisfied: google-auth-oauthlib<2,>=0.5 in /opt/conda/lib/python3.10/site-packages (from tensorboard<2.16,>=2.15->tensorflow<2.16,>=2.15.0->tensorflow-text->keras-hub==0.17.0->keras-nlp) (1.2.0)\r\n",
      "Requirement already satisfied: markdown>=2.6.8 in /opt/conda/lib/python3.10/site-packages (from tensorboard<2.16,>=2.15->tensorflow<2.16,>=2.15.0->tensorflow-text->keras-hub==0.17.0->keras-nlp) (3.5.2)\r\n",
      "Requirement already satisfied: tensorboard-data-server<0.8.0,>=0.7.0 in /opt/conda/lib/python3.10/site-packages (from tensorboard<2.16,>=2.15->tensorflow<2.16,>=2.15.0->tensorflow-text->keras-hub==0.17.0->keras-nlp) (0.7.2)\r\n",
      "Requirement already satisfied: werkzeug>=1.0.1 in /opt/conda/lib/python3.10/site-packages (from tensorboard<2.16,>=2.15->tensorflow<2.16,>=2.15.0->tensorflow-text->keras-hub==0.17.0->keras-nlp) (3.0.1)\r\n",
      "Requirement already satisfied: cachetools<6.0,>=2.0.0 in /opt/conda/lib/python3.10/site-packages (from google-auth<3,>=1.6.3->tensorboard<2.16,>=2.15->tensorflow<2.16,>=2.15.0->tensorflow-text->keras-hub==0.17.0->keras-nlp) (4.2.4)\r\n",
      "Requirement already satisfied: pyasn1-modules>=0.2.1 in /opt/conda/lib/python3.10/site-packages (from google-auth<3,>=1.6.3->tensorboard<2.16,>=2.15->tensorflow<2.16,>=2.15.0->tensorflow-text->keras-hub==0.17.0->keras-nlp) (0.3.0)\r\n",
      "Requirement already satisfied: rsa<5,>=3.1.4 in /opt/conda/lib/python3.10/site-packages (from google-auth<3,>=1.6.3->tensorboard<2.16,>=2.15->tensorflow<2.16,>=2.15.0->tensorflow-text->keras-hub==0.17.0->keras-nlp) (4.9)\r\n",
      "Requirement already satisfied: requests-oauthlib>=0.7.0 in /opt/conda/lib/python3.10/site-packages (from google-auth-oauthlib<2,>=0.5->tensorboard<2.16,>=2.15->tensorflow<2.16,>=2.15.0->tensorflow-text->keras-hub==0.17.0->keras-nlp) (1.3.1)\r\n",
      "Requirement already satisfied: MarkupSafe>=2.1.1 in /opt/conda/lib/python3.10/site-packages (from werkzeug>=1.0.1->tensorboard<2.16,>=2.15->tensorflow<2.16,>=2.15.0->tensorflow-text->keras-hub==0.17.0->keras-nlp) (2.1.3)\r\n",
      "Requirement already satisfied: pyasn1<0.6.0,>=0.4.6 in /opt/conda/lib/python3.10/site-packages (from pyasn1-modules>=0.2.1->google-auth<3,>=1.6.3->tensorboard<2.16,>=2.15->tensorflow<2.16,>=2.15.0->tensorflow-text->keras-hub==0.17.0->keras-nlp) (0.5.1)\r\n",
      "Requirement already satisfied: oauthlib>=3.0.0 in /opt/conda/lib/python3.10/site-packages (from requests-oauthlib>=0.7.0->google-auth-oauthlib<2,>=0.5->tensorboard<2.16,>=2.15->tensorflow<2.16,>=2.15.0->tensorflow-text->keras-hub==0.17.0->keras-nlp) (3.2.2)\r\n",
      "Downloading keras_nlp-0.17.0-py3-none-any.whl (2.0 kB)\r\n",
      "Downloading keras_hub-0.17.0-py3-none-any.whl (644 kB)\r\n",
      "\u001b[2K   \u001b[90m━━━━━━━━━━━━━━━━━━━━━━━━━━━━━━━━━━━━━━━━\u001b[0m \u001b[32m644.1/644.1 kB\u001b[0m \u001b[31m10.2 MB/s\u001b[0m eta \u001b[36m0:00:00\u001b[0m\r\n",
      "\u001b[?25hInstalling collected packages: keras-hub, keras-nlp\r\n",
      "  Attempting uninstall: keras-nlp\r\n",
      "    Found existing installation: keras-nlp 0.7.0\r\n",
      "    Uninstalling keras-nlp-0.7.0:\r\n",
      "      Successfully uninstalled keras-nlp-0.7.0\r\n",
      "Successfully installed keras-hub-0.17.0 keras-nlp-0.17.0\r\n",
      "Requirement already satisfied: keras in /opt/conda/lib/python3.10/site-packages (2.15.0)\r\n",
      "Collecting keras\r\n",
      "  Downloading keras-3.6.0-py3-none-any.whl.metadata (5.8 kB)\r\n",
      "Requirement already satisfied: absl-py in /opt/conda/lib/python3.10/site-packages (from keras) (1.4.0)\r\n",
      "Requirement already satisfied: numpy in /opt/conda/lib/python3.10/site-packages (from keras) (1.24.4)\r\n",
      "Requirement already satisfied: rich in /opt/conda/lib/python3.10/site-packages (from keras) (13.7.0)\r\n",
      "Requirement already satisfied: namex in /opt/conda/lib/python3.10/site-packages (from keras) (0.0.7)\r\n",
      "Requirement already satisfied: h5py in /opt/conda/lib/python3.10/site-packages (from keras) (3.10.0)\r\n",
      "Collecting optree (from keras)\r\n",
      "  Downloading optree-0.13.1-cp310-cp310-manylinux_2_17_x86_64.manylinux2014_x86_64.whl.metadata (47 kB)\r\n",
      "\u001b[2K     \u001b[90m━━━━━━━━━━━━━━━━━━━━━━━━━━━━━━━━━━━━━━━━\u001b[0m \u001b[32m47.8/47.8 kB\u001b[0m \u001b[31m1.7 MB/s\u001b[0m eta \u001b[36m0:00:00\u001b[0m\r\n",
      "\u001b[?25hRequirement already satisfied: ml-dtypes in /opt/conda/lib/python3.10/site-packages (from keras) (0.2.0)\r\n",
      "Requirement already satisfied: packaging in /opt/conda/lib/python3.10/site-packages (from keras) (21.3)\r\n",
      "Requirement already satisfied: typing-extensions>=4.5.0 in /opt/conda/lib/python3.10/site-packages (from optree->keras) (4.9.0)\r\n",
      "Requirement already satisfied: pyparsing!=3.0.5,>=2.0.2 in /opt/conda/lib/python3.10/site-packages (from packaging->keras) (3.1.1)\r\n",
      "Requirement already satisfied: markdown-it-py>=2.2.0 in /opt/conda/lib/python3.10/site-packages (from rich->keras) (3.0.0)\r\n",
      "Requirement already satisfied: pygments<3.0.0,>=2.13.0 in /opt/conda/lib/python3.10/site-packages (from rich->keras) (2.17.2)\r\n",
      "Requirement already satisfied: mdurl~=0.1 in /opt/conda/lib/python3.10/site-packages (from markdown-it-py>=2.2.0->rich->keras) (0.1.2)\r\n",
      "Downloading keras-3.6.0-py3-none-any.whl (1.2 MB)\r\n",
      "\u001b[2K   \u001b[90m━━━━━━━━━━━━━━━━━━━━━━━━━━━━━━━━━━━━━━━━\u001b[0m \u001b[32m1.2/1.2 MB\u001b[0m \u001b[31m20.9 MB/s\u001b[0m eta \u001b[36m0:00:00\u001b[0m\r\n",
      "\u001b[?25hDownloading optree-0.13.1-cp310-cp310-manylinux_2_17_x86_64.manylinux2014_x86_64.whl (381 kB)\r\n",
      "\u001b[2K   \u001b[90m━━━━━━━━━━━━━━━━━━━━━━━━━━━━━━━━━━━━━━━━\u001b[0m \u001b[32m381.3/381.3 kB\u001b[0m \u001b[31m23.8 MB/s\u001b[0m eta \u001b[36m0:00:00\u001b[0m\r\n",
      "\u001b[?25hInstalling collected packages: optree, keras\r\n",
      "  Attempting uninstall: keras\r\n",
      "    Found existing installation: keras 2.15.0\r\n",
      "    Uninstalling keras-2.15.0:\r\n",
      "      Successfully uninstalled keras-2.15.0\r\n",
      "\u001b[31mERROR: pip's dependency resolver does not currently take into account all the packages that are installed. This behaviour is the source of the following dependency conflicts.\r\n",
      "tensorflow 2.15.0 requires keras<2.16,>=2.15.0, but you have keras 3.6.0 which is incompatible.\r\n",
      "tensorflowjs 4.16.0 requires packaging~=23.1, but you have packaging 21.3 which is incompatible.\u001b[0m\u001b[31m\r\n",
      "\u001b[0mSuccessfully installed keras-3.6.0 optree-0.13.1\r\n"
     ]
    }
   ],
   "source": [
    "!pip install -U keras-nlp\n",
    "!pip install -U keras"
   ]
  },
  {
   "cell_type": "code",
   "execution_count": 2,
   "id": "ccf58a8c",
   "metadata": {
    "_kg_hide-output": true,
    "execution": {
     "iopub.execute_input": "2024-11-22T16:12:04.633726Z",
     "iopub.status.busy": "2024-11-22T16:12:04.633435Z",
     "iopub.status.idle": "2024-11-22T16:12:19.166345Z",
     "shell.execute_reply": "2024-11-22T16:12:19.165500Z"
    },
    "papermill": {
     "duration": 14.540663,
     "end_time": "2024-11-22T16:12:19.168451",
     "exception": false,
     "start_time": "2024-11-22T16:12:04.627788",
     "status": "completed"
    },
    "tags": []
   },
   "outputs": [
    {
     "name": "stderr",
     "output_type": "stream",
     "text": [
      "2024-11-22 16:12:07.877956: E external/local_xla/xla/stream_executor/cuda/cuda_dnn.cc:9261] Unable to register cuDNN factory: Attempting to register factory for plugin cuDNN when one has already been registered\n",
      "2024-11-22 16:12:07.878101: E external/local_xla/xla/stream_executor/cuda/cuda_fft.cc:607] Unable to register cuFFT factory: Attempting to register factory for plugin cuFFT when one has already been registered\n",
      "2024-11-22 16:12:08.064918: E external/local_xla/xla/stream_executor/cuda/cuda_blas.cc:1515] Unable to register cuBLAS factory: Attempting to register factory for plugin cuBLAS when one has already been registered\n"
     ]
    }
   ],
   "source": [
    "import os\n",
    "import pandas as pd\n",
    "import numpy as np\n",
    "\n",
    "import keras\n",
    "import keras_nlp"
   ]
  },
  {
   "cell_type": "code",
   "execution_count": 3,
   "id": "06e44159",
   "metadata": {
    "execution": {
     "iopub.execute_input": "2024-11-22T16:12:19.179304Z",
     "iopub.status.busy": "2024-11-22T16:12:19.178854Z",
     "iopub.status.idle": "2024-11-22T16:12:19.182762Z",
     "shell.execute_reply": "2024-11-22T16:12:19.181949Z"
    },
    "papermill": {
     "duration": 0.010984,
     "end_time": "2024-11-22T16:12:19.184397",
     "exception": false,
     "start_time": "2024-11-22T16:12:19.173413",
     "status": "completed"
    },
    "tags": []
   },
   "outputs": [],
   "source": [
    "import random\n",
    "random.seed(123)"
   ]
  },
  {
   "cell_type": "code",
   "execution_count": 4,
   "id": "0a21c038",
   "metadata": {
    "execution": {
     "iopub.execute_input": "2024-11-22T16:12:19.194379Z",
     "iopub.status.busy": "2024-11-22T16:12:19.194153Z",
     "iopub.status.idle": "2024-11-22T16:12:19.197637Z",
     "shell.execute_reply": "2024-11-22T16:12:19.196884Z"
    },
    "papermill": {
     "duration": 0.010153,
     "end_time": "2024-11-22T16:12:19.199140",
     "exception": false,
     "start_time": "2024-11-22T16:12:19.188987",
     "status": "completed"
    },
    "tags": []
   },
   "outputs": [],
   "source": [
    "# adjust display options\n",
    "pd.set_option('display.max_colwidth', None)"
   ]
  },
  {
   "cell_type": "code",
   "execution_count": 5,
   "id": "316133c0",
   "metadata": {
    "execution": {
     "iopub.execute_input": "2024-11-22T16:12:19.209373Z",
     "iopub.status.busy": "2024-11-22T16:12:19.209142Z",
     "iopub.status.idle": "2024-11-22T16:12:19.229038Z",
     "shell.execute_reply": "2024-11-22T16:12:19.228266Z"
    },
    "papermill": {
     "duration": 0.026782,
     "end_time": "2024-11-22T16:12:19.230571",
     "exception": false,
     "start_time": "2024-11-22T16:12:19.203789",
     "status": "completed"
    },
    "tags": []
   },
   "outputs": [
    {
     "data": {
      "text/html": [
       "<div>\n",
       "<style scoped>\n",
       "    .dataframe tbody tr th:only-of-type {\n",
       "        vertical-align: middle;\n",
       "    }\n",
       "\n",
       "    .dataframe tbody tr th {\n",
       "        vertical-align: top;\n",
       "    }\n",
       "\n",
       "    .dataframe thead th {\n",
       "        text-align: right;\n",
       "    }\n",
       "</style>\n",
       "<table border=\"1\" class=\"dataframe\">\n",
       "  <thead>\n",
       "    <tr style=\"text-align: right;\">\n",
       "      <th></th>\n",
       "      <th>id</th>\n",
       "      <th>text</th>\n",
       "    </tr>\n",
       "  </thead>\n",
       "  <tbody>\n",
       "    <tr>\n",
       "      <th>0</th>\n",
       "      <td>0</td>\n",
       "      <td>advent chimney elf family fireplace gingerbread mistletoe ornament reindeer scrooge</td>\n",
       "    </tr>\n",
       "    <tr>\n",
       "      <th>1</th>\n",
       "      <td>1</td>\n",
       "      <td>advent chimney elf family fireplace gingerbread mistletoe ornament reindeer scrooge walk give jump drive bake the sleep night laugh and</td>\n",
       "    </tr>\n",
       "    <tr>\n",
       "      <th>2</th>\n",
       "      <td>2</td>\n",
       "      <td>yuletide decorations gifts cheer holiday carol magi nutcracker polar grinch sleigh chimney workshop stocking ornament holly jingle beard naughty nice</td>\n",
       "    </tr>\n",
       "    <tr>\n",
       "      <th>3</th>\n",
       "      <td>3</td>\n",
       "      <td>yuletide decorations gifts cheer holiday carol magi nutcracker polar grinch sleigh chimney workshop stocking ornament holly jingle beard naughty nice sing cheer and of the is eat visit relax unwrap</td>\n",
       "    </tr>\n",
       "    <tr>\n",
       "      <th>4</th>\n",
       "      <td>4</td>\n",
       "      <td>hohoho candle poinsettia snowglobe peppermint eggnog fruitcake chocolate candy puzzle game doll toy workshop wonder believe dream hope peace joy merry season greeting card wrapping paper bow fireplace night cookie milk star wish wreath angel the to of and in that have it not with as you from we kaggle</td>\n",
       "    </tr>\n",
       "    <tr>\n",
       "      <th>5</th>\n",
       "      <td>5</td>\n",
       "      <td>advent chimney elf family fireplace gingerbread mistletoe ornament reindeer scrooge walk give jump drive bake the sleep night laugh and yuletide decorations gifts cheer holiday carol magi nutcracker polar grinch sleigh chimney workshop stocking ornament holly jingle beard naughty nice sing cheer and of the is eat visit relax unwrap hohoho candle poinsettia snowglobe peppermint eggnog fruitcake chocolate candy puzzle game doll toy workshop wonder believe dream hope peace joy merry season greeting card wrapping paper bow fireplace night cookie milk star wish wreath angel the to of and in that have it not with as you from we kaggle</td>\n",
       "    </tr>\n",
       "  </tbody>\n",
       "</table>\n",
       "</div>"
      ],
      "text/plain": [
       "   id  \\\n",
       "0   0   \n",
       "1   1   \n",
       "2   2   \n",
       "3   3   \n",
       "4   4   \n",
       "5   5   \n",
       "\n",
       "                                                                                                                                                                                                                                                                                                                                                                                                                                                                                                                                                                                                                                                           text  \n",
       "0                                                                                                                                                                                                                                                                                                                                                                                                                                                                                                                                                                           advent chimney elf family fireplace gingerbread mistletoe ornament reindeer scrooge  \n",
       "1                                                                                                                                                                                                                                                                                                                                                                                                                                                                                                                       advent chimney elf family fireplace gingerbread mistletoe ornament reindeer scrooge walk give jump drive bake the sleep night laugh and  \n",
       "2                                                                                                                                                                                                                                                                                                                                                                                                                                                                                                         yuletide decorations gifts cheer holiday carol magi nutcracker polar grinch sleigh chimney workshop stocking ornament holly jingle beard naughty nice  \n",
       "3                                                                                                                                                                                                                                                                                                                                                                                                                                                         yuletide decorations gifts cheer holiday carol magi nutcracker polar grinch sleigh chimney workshop stocking ornament holly jingle beard naughty nice sing cheer and of the is eat visit relax unwrap  \n",
       "4                                                                                                                                                                                                                                                                                                                                                hohoho candle poinsettia snowglobe peppermint eggnog fruitcake chocolate candy puzzle game doll toy workshop wonder believe dream hope peace joy merry season greeting card wrapping paper bow fireplace night cookie milk star wish wreath angel the to of and in that have it not with as you from we kaggle  \n",
       "5  advent chimney elf family fireplace gingerbread mistletoe ornament reindeer scrooge walk give jump drive bake the sleep night laugh and yuletide decorations gifts cheer holiday carol magi nutcracker polar grinch sleigh chimney workshop stocking ornament holly jingle beard naughty nice sing cheer and of the is eat visit relax unwrap hohoho candle poinsettia snowglobe peppermint eggnog fruitcake chocolate candy puzzle game doll toy workshop wonder believe dream hope peace joy merry season greeting card wrapping paper bow fireplace night cookie milk star wish wreath angel the to of and in that have it not with as you from we kaggle  "
      ]
     },
     "execution_count": 5,
     "metadata": {},
     "output_type": "execute_result"
    }
   ],
   "source": [
    "# load submission file = input data\n",
    "df = pd.read_csv('../input/santa-2024/sample_submission.csv')\n",
    "n_rows = df.shape[0]\n",
    "df"
   ]
  },
  {
   "cell_type": "code",
   "execution_count": 6,
   "id": "553d2229",
   "metadata": {
    "execution": {
     "iopub.execute_input": "2024-11-22T16:12:19.241604Z",
     "iopub.status.busy": "2024-11-22T16:12:19.241126Z",
     "iopub.status.idle": "2024-11-22T16:13:02.745629Z",
     "shell.execute_reply": "2024-11-22T16:13:02.744792Z"
    },
    "papermill": {
     "duration": 43.511837,
     "end_time": "2024-11-22T16:13:02.747168",
     "exception": false,
     "start_time": "2024-11-22T16:12:19.235331",
     "status": "completed"
    },
    "tags": []
   },
   "outputs": [
    {
     "name": "stderr",
     "output_type": "stream",
     "text": [
      "Attaching 'config.json' from model 'keras/gemma/keras/gemma_instruct_2b_en/2' to your Kaggle notebook...\n",
      "Attaching 'config.json' from model 'keras/gemma/keras/gemma_instruct_2b_en/2' to your Kaggle notebook...\n",
      "Attaching 'task.json' from model 'keras/gemma/keras/gemma_instruct_2b_en/2' to your Kaggle notebook...\n",
      "Attaching 'model.weights.h5' from model 'keras/gemma/keras/gemma_instruct_2b_en/2' to your Kaggle notebook...\n",
      "Attaching 'preprocessor.json' from model 'keras/gemma/keras/gemma_instruct_2b_en/2' to your Kaggle notebook...\n",
      "Attaching 'tokenizer.json' from model 'keras/gemma/keras/gemma_instruct_2b_en/2' to your Kaggle notebook...\n",
      "Attaching 'assets/tokenizer/vocabulary.spm' from model 'keras/gemma/keras/gemma_instruct_2b_en/2' to your Kaggle notebook...\n",
      "normalizer.cc(51) LOG(INFO) precompiled_charsmap is empty. use identity normalization.\n"
     ]
    },
    {
     "data": {
      "text/html": [
       "<pre style=\"white-space:pre;overflow-x:auto;line-height:normal;font-family:Menlo,'DejaVu Sans Mono',consolas,'Courier New',monospace\"><span style=\"font-weight: bold\">Preprocessor: \"gemma_causal_lm_preprocessor\"</span>\n",
       "</pre>\n"
      ],
      "text/plain": [
       "\u001b[1mPreprocessor: \"gemma_causal_lm_preprocessor\"\u001b[0m\n"
      ]
     },
     "metadata": {},
     "output_type": "display_data"
    },
    {
     "data": {
      "text/html": [
       "<pre style=\"white-space:pre;overflow-x:auto;line-height:normal;font-family:Menlo,'DejaVu Sans Mono',consolas,'Courier New',monospace\">┏━━━━━━━━━━━━━━━━━━━━━━━━━━━━━━━━━━━━━━━━━━━━━━━━━━━━━━━━━━━━━━━┳━━━━━━━━━━━━━━━━━━━━━━━━━━━━━━━━━━━━━━━━━━┓\n",
       "┃<span style=\"font-weight: bold\"> Layer (type)                                                  </span>┃<span style=\"font-weight: bold\">                                   Config </span>┃\n",
       "┡━━━━━━━━━━━━━━━━━━━━━━━━━━━━━━━━━━━━━━━━━━━━━━━━━━━━━━━━━━━━━━━╇━━━━━━━━━━━━━━━━━━━━━━━━━━━━━━━━━━━━━━━━━━┩\n",
       "│ gemma_tokenizer (<span style=\"color: #0087ff; text-decoration-color: #0087ff\">GemmaTokenizer</span>)                              │                      Vocab size: <span style=\"color: #00af00; text-decoration-color: #00af00\">256,000</span> │\n",
       "└───────────────────────────────────────────────────────────────┴──────────────────────────────────────────┘\n",
       "</pre>\n"
      ],
      "text/plain": [
       "┏━━━━━━━━━━━━━━━━━━━━━━━━━━━━━━━━━━━━━━━━━━━━━━━━━━━━━━━━━━━━━━━┳━━━━━━━━━━━━━━━━━━━━━━━━━━━━━━━━━━━━━━━━━━┓\n",
       "┃\u001b[1m \u001b[0m\u001b[1mLayer (type)                                                 \u001b[0m\u001b[1m \u001b[0m┃\u001b[1m \u001b[0m\u001b[1m                                  Config\u001b[0m\u001b[1m \u001b[0m┃\n",
       "┡━━━━━━━━━━━━━━━━━━━━━━━━━━━━━━━━━━━━━━━━━━━━━━━━━━━━━━━━━━━━━━━╇━━━━━━━━━━━━━━━━━━━━━━━━━━━━━━━━━━━━━━━━━━┩\n",
       "│ gemma_tokenizer (\u001b[38;5;33mGemmaTokenizer\u001b[0m)                              │                      Vocab size: \u001b[38;5;34m256,000\u001b[0m │\n",
       "└───────────────────────────────────────────────────────────────┴──────────────────────────────────────────┘\n"
      ]
     },
     "metadata": {},
     "output_type": "display_data"
    },
    {
     "data": {
      "text/html": [
       "<pre style=\"white-space:pre;overflow-x:auto;line-height:normal;font-family:Menlo,'DejaVu Sans Mono',consolas,'Courier New',monospace\"><span style=\"font-weight: bold\">Model: \"gemma_causal_lm\"</span>\n",
       "</pre>\n"
      ],
      "text/plain": [
       "\u001b[1mModel: \"gemma_causal_lm\"\u001b[0m\n"
      ]
     },
     "metadata": {},
     "output_type": "display_data"
    },
    {
     "data": {
      "text/html": [
       "<pre style=\"white-space:pre;overflow-x:auto;line-height:normal;font-family:Menlo,'DejaVu Sans Mono',consolas,'Courier New',monospace\">┏━━━━━━━━━━━━━━━━━━━━━━━━━━━━━━━┳━━━━━━━━━━━━━━━━━━━━━━━━━━━┳━━━━━━━━━━━━━━━━━┳━━━━━━━━━━━━━━━━━━━━━━━━━━━━┓\n",
       "┃<span style=\"font-weight: bold\"> Layer (type)                  </span>┃<span style=\"font-weight: bold\"> Output Shape              </span>┃<span style=\"font-weight: bold\">         Param # </span>┃<span style=\"font-weight: bold\"> Connected to               </span>┃\n",
       "┡━━━━━━━━━━━━━━━━━━━━━━━━━━━━━━━╇━━━━━━━━━━━━━━━━━━━━━━━━━━━╇━━━━━━━━━━━━━━━━━╇━━━━━━━━━━━━━━━━━━━━━━━━━━━━┩\n",
       "│ padding_mask (<span style=\"color: #0087ff; text-decoration-color: #0087ff\">InputLayer</span>)     │ (<span style=\"color: #00d7ff; text-decoration-color: #00d7ff\">None</span>, <span style=\"color: #00d7ff; text-decoration-color: #00d7ff\">None</span>)              │               <span style=\"color: #00af00; text-decoration-color: #00af00\">0</span> │ -                          │\n",
       "├───────────────────────────────┼───────────────────────────┼─────────────────┼────────────────────────────┤\n",
       "│ token_ids (<span style=\"color: #0087ff; text-decoration-color: #0087ff\">InputLayer</span>)        │ (<span style=\"color: #00d7ff; text-decoration-color: #00d7ff\">None</span>, <span style=\"color: #00d7ff; text-decoration-color: #00d7ff\">None</span>)              │               <span style=\"color: #00af00; text-decoration-color: #00af00\">0</span> │ -                          │\n",
       "├───────────────────────────────┼───────────────────────────┼─────────────────┼────────────────────────────┤\n",
       "│ gemma_backbone                │ (<span style=\"color: #00d7ff; text-decoration-color: #00d7ff\">None</span>, <span style=\"color: #00d7ff; text-decoration-color: #00d7ff\">None</span>, <span style=\"color: #00af00; text-decoration-color: #00af00\">2048</span>)        │   <span style=\"color: #00af00; text-decoration-color: #00af00\">2,506,172,416</span> │ padding_mask[<span style=\"color: #00af00; text-decoration-color: #00af00\">0</span>][<span style=\"color: #00af00; text-decoration-color: #00af00\">0</span>],        │\n",
       "│ (<span style=\"color: #0087ff; text-decoration-color: #0087ff\">GemmaBackbone</span>)               │                           │                 │ token_ids[<span style=\"color: #00af00; text-decoration-color: #00af00\">0</span>][<span style=\"color: #00af00; text-decoration-color: #00af00\">0</span>]            │\n",
       "├───────────────────────────────┼───────────────────────────┼─────────────────┼────────────────────────────┤\n",
       "│ token_embedding               │ (<span style=\"color: #00d7ff; text-decoration-color: #00d7ff\">None</span>, <span style=\"color: #00d7ff; text-decoration-color: #00d7ff\">None</span>, <span style=\"color: #00af00; text-decoration-color: #00af00\">256000</span>)      │     <span style=\"color: #00af00; text-decoration-color: #00af00\">524,288,000</span> │ gemma_backbone[<span style=\"color: #00af00; text-decoration-color: #00af00\">0</span>][<span style=\"color: #00af00; text-decoration-color: #00af00\">0</span>]       │\n",
       "│ (<span style=\"color: #0087ff; text-decoration-color: #0087ff\">ReversibleEmbedding</span>)         │                           │                 │                            │\n",
       "└───────────────────────────────┴───────────────────────────┴─────────────────┴────────────────────────────┘\n",
       "</pre>\n"
      ],
      "text/plain": [
       "┏━━━━━━━━━━━━━━━━━━━━━━━━━━━━━━━┳━━━━━━━━━━━━━━━━━━━━━━━━━━━┳━━━━━━━━━━━━━━━━━┳━━━━━━━━━━━━━━━━━━━━━━━━━━━━┓\n",
       "┃\u001b[1m \u001b[0m\u001b[1mLayer (type)                 \u001b[0m\u001b[1m \u001b[0m┃\u001b[1m \u001b[0m\u001b[1mOutput Shape             \u001b[0m\u001b[1m \u001b[0m┃\u001b[1m \u001b[0m\u001b[1m        Param #\u001b[0m\u001b[1m \u001b[0m┃\u001b[1m \u001b[0m\u001b[1mConnected to              \u001b[0m\u001b[1m \u001b[0m┃\n",
       "┡━━━━━━━━━━━━━━━━━━━━━━━━━━━━━━━╇━━━━━━━━━━━━━━━━━━━━━━━━━━━╇━━━━━━━━━━━━━━━━━╇━━━━━━━━━━━━━━━━━━━━━━━━━━━━┩\n",
       "│ padding_mask (\u001b[38;5;33mInputLayer\u001b[0m)     │ (\u001b[38;5;45mNone\u001b[0m, \u001b[38;5;45mNone\u001b[0m)              │               \u001b[38;5;34m0\u001b[0m │ -                          │\n",
       "├───────────────────────────────┼───────────────────────────┼─────────────────┼────────────────────────────┤\n",
       "│ token_ids (\u001b[38;5;33mInputLayer\u001b[0m)        │ (\u001b[38;5;45mNone\u001b[0m, \u001b[38;5;45mNone\u001b[0m)              │               \u001b[38;5;34m0\u001b[0m │ -                          │\n",
       "├───────────────────────────────┼───────────────────────────┼─────────────────┼────────────────────────────┤\n",
       "│ gemma_backbone                │ (\u001b[38;5;45mNone\u001b[0m, \u001b[38;5;45mNone\u001b[0m, \u001b[38;5;34m2048\u001b[0m)        │   \u001b[38;5;34m2,506,172,416\u001b[0m │ padding_mask[\u001b[38;5;34m0\u001b[0m][\u001b[38;5;34m0\u001b[0m],        │\n",
       "│ (\u001b[38;5;33mGemmaBackbone\u001b[0m)               │                           │                 │ token_ids[\u001b[38;5;34m0\u001b[0m][\u001b[38;5;34m0\u001b[0m]            │\n",
       "├───────────────────────────────┼───────────────────────────┼─────────────────┼────────────────────────────┤\n",
       "│ token_embedding               │ (\u001b[38;5;45mNone\u001b[0m, \u001b[38;5;45mNone\u001b[0m, \u001b[38;5;34m256000\u001b[0m)      │     \u001b[38;5;34m524,288,000\u001b[0m │ gemma_backbone[\u001b[38;5;34m0\u001b[0m][\u001b[38;5;34m0\u001b[0m]       │\n",
       "│ (\u001b[38;5;33mReversibleEmbedding\u001b[0m)         │                           │                 │                            │\n",
       "└───────────────────────────────┴───────────────────────────┴─────────────────┴────────────────────────────┘\n"
      ]
     },
     "metadata": {},
     "output_type": "display_data"
    },
    {
     "data": {
      "text/html": [
       "<pre style=\"white-space:pre;overflow-x:auto;line-height:normal;font-family:Menlo,'DejaVu Sans Mono',consolas,'Courier New',monospace\"><span style=\"font-weight: bold\"> Total params: </span><span style=\"color: #00af00; text-decoration-color: #00af00\">2,506,172,416</span> (4.67 GB)\n",
       "</pre>\n"
      ],
      "text/plain": [
       "\u001b[1m Total params: \u001b[0m\u001b[38;5;34m2,506,172,416\u001b[0m (4.67 GB)\n"
      ]
     },
     "metadata": {},
     "output_type": "display_data"
    },
    {
     "data": {
      "text/html": [
       "<pre style=\"white-space:pre;overflow-x:auto;line-height:normal;font-family:Menlo,'DejaVu Sans Mono',consolas,'Courier New',monospace\"><span style=\"font-weight: bold\"> Trainable params: </span><span style=\"color: #00af00; text-decoration-color: #00af00\">2,506,172,416</span> (4.67 GB)\n",
       "</pre>\n"
      ],
      "text/plain": [
       "\u001b[1m Trainable params: \u001b[0m\u001b[38;5;34m2,506,172,416\u001b[0m (4.67 GB)\n"
      ]
     },
     "metadata": {},
     "output_type": "display_data"
    },
    {
     "data": {
      "text/html": [
       "<pre style=\"white-space:pre;overflow-x:auto;line-height:normal;font-family:Menlo,'DejaVu Sans Mono',consolas,'Courier New',monospace\"><span style=\"font-weight: bold\"> Non-trainable params: </span><span style=\"color: #00af00; text-decoration-color: #00af00\">0</span> (0.00 B)\n",
       "</pre>\n"
      ],
      "text/plain": [
       "\u001b[1m Non-trainable params: \u001b[0m\u001b[38;5;34m0\u001b[0m (0.00 B)\n"
      ]
     },
     "metadata": {},
     "output_type": "display_data"
    }
   ],
   "source": [
    "# setting up model\n",
    "os.environ['KERAS_BACKEND'] = 'jax'\n",
    "keras.config.set_floatx('bfloat16')\n",
    "\n",
    "# load model\n",
    "LLM = keras_nlp.models.CausalLM.from_preset('gemma_instruct_2b_en')\n",
    "\n",
    "# show model details\n",
    "LLM.summary()"
   ]
  },
  {
   "cell_type": "code",
   "execution_count": 7,
   "id": "4b1f4fc5",
   "metadata": {
    "execution": {
     "iopub.execute_input": "2024-11-22T16:13:02.760037Z",
     "iopub.status.busy": "2024-11-22T16:13:02.759779Z",
     "iopub.status.idle": "2024-11-22T16:13:02.764123Z",
     "shell.execute_reply": "2024-11-22T16:13:02.763228Z"
    },
    "papermill": {
     "duration": 0.012375,
     "end_time": "2024-11-22T16:13:02.765606",
     "exception": false,
     "start_time": "2024-11-22T16:13:02.753231",
     "status": "completed"
    },
    "tags": []
   },
   "outputs": [
    {
     "name": "stdout",
     "output_type": "stream",
     "text": [
      "Please create a permutation of the words in the following input text in order to get a lower perplexity. Please make sure to have exactly the same words in the output as in the input. Please calculate the perplexity for the input and the output, explain how the calculation was done, and compare them. Here is the input text:\n",
      "\n"
     ]
    }
   ],
   "source": [
    "# define prompt\n",
    "prompt_base = 'Please create a permutation of the words in the following input text in order to get a lower perplexity. Please make sure to have exactly the same words in the output as in the input. Please calculate the perplexity for the input and the output, explain how the calculation was done, and compare them. Here is the input text:\\n'\n",
    "print(prompt_base)"
   ]
  },
  {
   "cell_type": "code",
   "execution_count": 8,
   "id": "705476f5",
   "metadata": {
    "execution": {
     "iopub.execute_input": "2024-11-22T16:13:02.779525Z",
     "iopub.status.busy": "2024-11-22T16:13:02.778906Z",
     "iopub.status.idle": "2024-11-22T16:14:35.947236Z",
     "shell.execute_reply": "2024-11-22T16:14:35.946177Z"
    },
    "papermill": {
     "duration": 93.176809,
     "end_time": "2024-11-22T16:14:35.949084",
     "exception": false,
     "start_time": "2024-11-22T16:13:02.772275",
     "status": "completed"
    },
    "tags": []
   },
   "outputs": [
    {
     "name": "stdout",
     "output_type": "stream",
     "text": [
      "> Text # 1\n"
     ]
    },
    {
     "name": "stderr",
     "output_type": "stream",
     "text": [
      "WARNING: All log messages before absl::InitializeLog() is called are written to STDERR\n",
      "I0000 00:00:1732292011.465706      26 device_compiler.h:186] Compiled cluster using XLA!  This line is logged at most once for the lifetime of the process.\n"
     ]
    },
    {
     "name": "stdout",
     "output_type": "stream",
     "text": [
      "Response: Please create a permutation of the words in the following input text in order to get a lower perplexity. Please make sure to have exactly the same words in the output as in the input. Please calculate the perplexity for the input and the output, explain how the calculation was done, and compare them. Here is the input text:\n",
      "advent chimney elf family fireplace gingerbread mistletoe ornament reindeer scrooge\n",
      "\n",
      "The output permutation is:\n",
      "\n",
      "- chimney elf family fireplace gingerbread mistletoe ornament reindeer scrooge\n",
      "\n",
      "The perplexity for the input is 12.2. The perplexity for the output is 10.5.\n",
      "\n",
      "**Explanation:**\n",
      "\n",
      "The difference in perplexity between the input and the output is due to the order of the words in the input. The words in the output are arranged in a different order than the words in the input. This changes the way that the words are interpreted by the model, which can lead to a lower perplexity.\n",
      "\n",
      "**Comparison:**\n",
      "\n",
      "The perplexity of the input is 12.2, while the perplexity of the output is 10.5. This means that the output permutation is more difficult for the model to understand than the input permutation. This is because the output permutation is not a valid permutation of the words in the input text.\n",
      "\n",
      "**Conclusion:**\n",
      "\n",
      "The output permutation is a more difficult permutation of the words in the input text than the input permutation. This is due to the order of the words in the input, which changes the way that the words are interpreted by the model.\n",
      "\n",
      "\n",
      "\n",
      "\n",
      "> Text # 2\n",
      "Response: Please create a permutation of the words in the following input text in order to get a lower perplexity. Please make sure to have exactly the same words in the output as in the input. Please calculate the perplexity for the input and the output, explain how the calculation was done, and compare them. Here is the input text:\n",
      "advent chimney elf family fireplace gingerbread mistletoe ornament reindeer scrooge walk give jump drive bake the sleep night laugh and\n",
      "\n",
      "The output permutation is:\n",
      "\n",
      "- chimney\n",
      "- elf\n",
      "- family\n",
      "- fireplace\n",
      "- gingerbread\n",
      "- mistletoe\n",
      "- ornament\n",
      "- reindeer\n",
      "- Scrooge\n",
      "- walk\n",
      "- jump\n",
      "- drive\n",
      "- bake\n",
      "- sleep\n",
      "- laugh\n",
      "\n",
      "The perplexity for the input text is 12.2. The perplexity for the output permutation is 10.5. This means that the output permutation is more perplexing than the input text.\n",
      "\n",
      "Here is the calculation of the perplexity:\n",
      "\n",
      "(number of permutations) / (number of possible permutations) = 12 / 24 = 0.5\n",
      "\n",
      "The number of permutations is the number of ways to arrange the words in the input text. In this case, there are 24 different words to arrange.\n",
      "\n",
      "The number of possible permutations is the number of ways to arrange the words in the input text. In this case, there are 24! different permutations.\n",
      "\n",
      "The perplexity is a measure of how difficult it is to guess the order of the words in a text. A lower perplexity indicates that it is easier to guess the order of the words.\n",
      "\n",
      "The output permutation is more perplexing than the input text because it requires the user to make more guesses to figure out the order of the words.\n",
      "\n",
      "\n",
      "\n",
      "\n",
      "> Text # 3\n",
      "Response: Please create a permutation of the words in the following input text in order to get a lower perplexity. Please make sure to have exactly the same words in the output as in the input. Please calculate the perplexity for the input and the output, explain how the calculation was done, and compare them. Here is the input text:\n",
      "yuletide decorations gifts cheer holiday carol magi nutcracker polar grinch sleigh chimney workshop stocking ornament holly jingle beard naughty nice\n",
      "\n",
      "The output permutation is:\n",
      "\n",
      "yuletide decorations gifts cheer holiday carol magi nutcracker polar grinch sleigh chimney workshop stocking ornament holly jingle beard naughty nice\n",
      "\n",
      "The perplexity for the input text is 12.2. The perplexity for the output permutation is 10.5. This means that the output permutation is more perplexing than the input text.\n",
      "\n",
      "Here is how the perplexity was calculated for both the input and the output permutation:\n",
      "\n",
      "**Input perplexity:**\n",
      "\n",
      "(12) / (11) = 1.11\n",
      "\n",
      "**Output perplexity:**\n",
      "\n",
      "(10.5) / (11) = 0.92\n",
      "\n",
      "**Comparison:**\n",
      "\n",
      "The output permutation is more perplexing than the input text. This is because the output permutation has a lower perplexity, meaning that it is easier to guess the words in the output permutation than the words in the input text.\n",
      "\n",
      "\n",
      "\n",
      "\n",
      "> Text # 4\n",
      "Response: Please create a permutation of the words in the following input text in order to get a lower perplexity. Please make sure to have exactly the same words in the output as in the input. Please calculate the perplexity for the input and the output, explain how the calculation was done, and compare them. Here is the input text:\n",
      "yuletide decorations gifts cheer holiday carol magi nutcracker polar grinch sleigh chimney workshop stocking ornament holly jingle beard naughty nice sing cheer and of the is eat visit relax unwrap\n",
      "\n",
      "The output permutation is:\n",
      "\n",
      "- the is eat relax unwrap visit relax the is the workshop stocking the and the and the and the and the and the and the\n",
      "\n",
      "The perplexity for the input text is 12.2. The perplexity for the output permutation is 1.1. This means that the output permutation is significantly more perplexing than the input text.\n",
      "\n",
      "**Calculation of perplexity:**\n",
      "\n",
      "The perplexity is a measure of how difficult it is to guess the order of a set of words. A lower perplexity indicates that the words are more likely to be guessed in a random order, while a higher perplexity indicates that the words are more likely to be guessed in a predictable order.\n",
      "\n",
      "The perplexity is calculated by summing the absolute differences between the positions of each pair of words in the permutation. In this case, the absolute difference between the positions of \"the\" and \"is\" is 5, the absolute difference between the positions of \"the\" and \"relax\" is 3, and so on.\n",
      "\n",
      "The total perplexity for the input text is 12.2.\n",
      "\n",
      "**Comparison:**\n",
      "\n",
      "The perplexity of the input text is significantly higher than the perplexity of the output permutation. This means that the output permutation is much easier to guess in a random order than the input text.\n",
      "\n",
      "\n",
      "\n",
      "\n",
      "> Text # 5\n",
      "Response: Please create a permutation of the words in the following input text in order to get a lower perplexity. Please make sure to have exactly the same words in the output as in the input. Please calculate the perplexity for the input and the output, explain how the calculation was done, and compare them. Here is the input text:\n",
      "hohoho candle poinsettia snowglobe peppermint eggnog fruitcake chocolate candy puzzle game doll toy workshop wonder believe dream hope peace joy merry season greeting card wrapping paper bow fireplace night cookie milk star wish wreath angel the to of and in that have it not with as you from we kaggle\n",
      "\n",
      "The output permutation is:\n",
      "\n",
      "- candle chocolate candy dream hope heart horse holiday house ice kingle magic peppermint snowball surprise the to the and with have it not with as we have it not with as we have it not with as we have it not with as we have it not with as we have it not with as we have it not with as we have it not with as we have it not with as we have it not with as we have it not with as we have it not with as we have it not with as we have it not with as we have it not with as we have it not with as we have it not with as we have it not with as we have it not with as we have it not with as we have it not with as we have it not with as we have it not with as we have it not with as we have it not with as we have it not with as we have it not with as we have it not with as we have it not with as we have it not with as we have it not with as we have it not with as we have it not with as we have it not with as we have it not with as we have it not with as we have it not with as we have it not with as we have it not with as we have it not with as we have it not with as we have it not with as we have it not with as we have it not with as we have it not with as we have it not with as we have it not with as we have it not with as we have it not with as we have it not with as we have it not with as we have it not with as we have it not with as we have it not with as we have it not with as we have it not with as we have it not with as we have it not with as we have it not with as we have it not with as we have it not with as we have it not with as we have it not with as we have it not with as we have it not with as we have it not with as we have it not with as we have it not with as we have it not with as we have it not with as we have it not with as we have it not with as we have it not with as we have it not with as we have it not with as we have it not with as we have it not with as we have it not with as we have it not with as we have it not with as we have it not with as we have it not with as we have it not with as we have it not with as we have it not with as we have it not with as we have it not with as we have it not with as we have it not with as we have it not with as we have it not with as we have it not with as we have it not with as we have it not with as we have it not with as we have it not with as we have it not with as we have it not with as we have it not with as we have it not with as we have it not with as we have it not with as we have it not with as we have it not with as we have it not with as we have it not with as we have it not with as we have it not with as we have it not with as we have it not with as we have it not with as we have it not with as we have it not with as we have it not with as we have it not with as we have it not with as we have it not with as we have it not with as we have it not with as we have it not with as we have it not with as we have it not with as we have it not with as we have it not with as we have it not with as we have it not with as we have it not with as we have it not with as we have it not with as we have it not with as we have it not with as we have it not with as we have it not with as we have it not with as we have it not with as we have it not with as we have it not with as we have it not with as we have it not with as we have it not with as we have it not with as we have it not with as we have it not with as we have it not with as we have it not\n",
      "\n",
      "\n",
      "\n",
      "\n",
      "> Text # 6\n",
      "Response: Please create a permutation of the words in the following input text in order to get a lower perplexity. Please make sure to have exactly the same words in the output as in the input. Please calculate the perplexity for the input and the output, explain how the calculation was done, and compare them. Here is the input text:\n",
      "advent chimney elf family fireplace gingerbread mistletoe ornament reindeer scrooge walk give jump drive bake the sleep night laugh and yuletide decorations gifts cheer holiday carol magi nutcracker polar grinch sleigh chimney workshop stocking ornament holly jingle beard naughty nice sing cheer and of the is eat visit relax unwrap hohoho candle poinsettia snowglobe peppermint eggnog fruitcake chocolate candy puzzle game doll toy workshop wonder believe dream hope peace joy merry season greeting card wrapping paper bow fireplace night cookie milk star wish wreath angel the to of and in that have it not with as you from we kaggle\n",
      "\n",
      "The output permutation is:\n",
      "\n",
      "- bake the chimney\n",
      "- candy the elf\n",
      "- Christmas the family\n",
      "- dream hope heart happy home\n",
      "- holiday the is\n",
      "- jump the kettle\n",
      "- magic the night\n",
      "- ornament the reindeer\n",
      "- party the snow\n",
      "- present the tree\n",
      "- reindeer the scrooge\n",
      "- sing the star\n",
      "- stocking the tree\n",
      "- surprise the yuletide\n",
      "\n",
      "The perplexity for the input text is 20.2. The perplexity for the output permutation is 10.5. This means that the output permutation is more perplexing than the input text.\n",
      "\n",
      "The calculation of the perplexity was done by calculating the number of permutations of the input text and dividing that number by the number of permutations of the output permutation. The number of permutations of the input text is 120. The number of permutations of the output permutation is 15. Therefore, the perplexity for the input text is 20.2, and the perplexity for the output permutation is 10.5.\n",
      "\n",
      "\n",
      "\n",
      "\n"
     ]
    }
   ],
   "source": [
    "# evaluate for each text\n",
    "for i in range(0, n_rows):\n",
    "    print('> Text #', i+1)\n",
    "    text = df.text[i]\n",
    "    my_prompt = prompt_base + text\n",
    "    response = LLM.generate(my_prompt)\n",
    "    print('Response:', response)\n",
    "    print('\\n\\n\\n')"
   ]
  },
  {
   "cell_type": "markdown",
   "id": "42dba656",
   "metadata": {
    "papermill": {
     "duration": 0.00643,
     "end_time": "2024-11-22T16:14:35.962273",
     "exception": false,
     "start_time": "2024-11-22T16:14:35.955843",
     "status": "completed"
    },
    "tags": []
   },
   "source": [
    "#### Very entertaining but full of mistakes..."
   ]
  },
  {
   "cell_type": "code",
   "execution_count": 9,
   "id": "07a5b531",
   "metadata": {
    "execution": {
     "iopub.execute_input": "2024-11-22T16:14:35.976672Z",
     "iopub.status.busy": "2024-11-22T16:14:35.976132Z",
     "iopub.status.idle": "2024-11-22T16:14:48.428274Z",
     "shell.execute_reply": "2024-11-22T16:14:48.426979Z"
    },
    "papermill": {
     "duration": 12.461597,
     "end_time": "2024-11-22T16:14:48.430354",
     "exception": false,
     "start_time": "2024-11-22T16:14:35.968757",
     "status": "completed"
    },
    "tags": []
   },
   "outputs": [
    {
     "name": "stdout",
     "output_type": "stream",
     "text": [
      "Please generate a python code snippet which can be used to change the order of words randomly in an input text.\n",
      "\n",
      "```python\n",
      "# This Python code snippet can be used to change the order of words randomly in an input text.\n",
      "\n",
      "import random\n",
      "\n",
      "def random_word_order(text):\n",
      "  \"\"\"\n",
      "  Randomly orders the words in a text.\n",
      "\n",
      "  Args:\n",
      "    text: The text to randomize.\n",
      "\n",
      "  Returns:\n",
      "    The randomized text.\n",
      "  \"\"\"\n",
      "\n",
      "  # Split the text into a list of words.\n",
      "  words = text.split()\n",
      "\n",
      "  # Shuffle the words in the list.\n",
      "  random.shuffle(words)\n",
      "\n",
      "  # Join the words back together with a space.\n",
      "  random_text = ' '.join(words)\n",
      "\n",
      "  return random_text\n",
      "\n",
      "\n",
      "# Get the input text from the user.\n",
      "input_text = input(\"Enter a text: \")\n",
      "\n",
      "# Randomly order the words in the input text.\n",
      "random_text = random_word_order(input_text)\n",
      "\n",
      "# Print the randomized text.\n",
      "print(\"Randomized text:\", random_text)\n",
      "```\n",
      "\n",
      "**Example Usage:**\n",
      "\n",
      "```\n",
      "Enter a text: This is a sample text with some words in a random order.\n",
      "```\n",
      "\n",
      "**Output:**\n",
      "\n",
      "```\n",
      "Randomized text: Some words in a random order. This is a sample text.\n",
      "```\n",
      "\n",
      "**Explanation:**\n",
      "\n",
      "* The `random_word_order()` function takes a text as input.\n",
      "* It first splits the text into a list of words.\n",
      "* Then, it shuffles the list in random order.\n",
      "* Finally, it joins the words back together with a space and returns the randomized text.\n",
      "\n",
      "**Note:**\n",
      "\n",
      "* The function preserves the order of the individual words within each sentence.\n",
      "* It uses the `random.shuffle()` function to randomly order the words.\n",
      "* The `join()` method is used to concatenate the words back together with a space.\n"
     ]
    }
   ],
   "source": [
    "# ask for Python code snippet\n",
    "response = LLM.generate('Please generate a python code snippet which can be used to change the order of words randomly in an input text.')\n",
    "print(response)"
   ]
  },
  {
   "cell_type": "code",
   "execution_count": 10,
   "id": "0d602199",
   "metadata": {
    "execution": {
     "iopub.execute_input": "2024-11-22T16:14:48.445596Z",
     "iopub.status.busy": "2024-11-22T16:14:48.444979Z",
     "iopub.status.idle": "2024-11-22T16:14:48.449391Z",
     "shell.execute_reply": "2024-11-22T16:14:48.448566Z"
    },
    "papermill": {
     "duration": 0.013971,
     "end_time": "2024-11-22T16:14:48.451176",
     "exception": false,
     "start_time": "2024-11-22T16:14:48.437205",
     "status": "completed"
    },
    "tags": []
   },
   "outputs": [],
   "source": [
    "import random\n",
    "\n",
    "def random_word_order(text):\n",
    "\n",
    "  # Split the text into a list of words.\n",
    "  words = text.split()\n",
    "\n",
    "  # Shuffle the words in the list.\n",
    "  random.shuffle(words)\n",
    "\n",
    "  # Join the words back together with a random separator.\n",
    "  random_text = ' '.join(words)\n",
    "\n",
    "  return random_text"
   ]
  },
  {
   "cell_type": "code",
   "execution_count": 11,
   "id": "9ada9b56",
   "metadata": {
    "execution": {
     "iopub.execute_input": "2024-11-22T16:14:48.467996Z",
     "iopub.status.busy": "2024-11-22T16:14:48.467721Z",
     "iopub.status.idle": "2024-11-22T16:14:48.473242Z",
     "shell.execute_reply": "2024-11-22T16:14:48.472296Z"
    },
    "papermill": {
     "duration": 0.01612,
     "end_time": "2024-11-22T16:14:48.475062",
     "exception": false,
     "start_time": "2024-11-22T16:14:48.458942",
     "status": "completed"
    },
    "tags": []
   },
   "outputs": [],
   "source": [
    "# apply function\n",
    "df['text_shuffled'] = df.text.map(random_word_order)"
   ]
  },
  {
   "cell_type": "code",
   "execution_count": 12,
   "id": "48c51c54",
   "metadata": {
    "execution": {
     "iopub.execute_input": "2024-11-22T16:14:48.491389Z",
     "iopub.status.busy": "2024-11-22T16:14:48.491113Z",
     "iopub.status.idle": "2024-11-22T16:14:48.500670Z",
     "shell.execute_reply": "2024-11-22T16:14:48.499653Z"
    },
    "papermill": {
     "duration": 0.020104,
     "end_time": "2024-11-22T16:14:48.502825",
     "exception": false,
     "start_time": "2024-11-22T16:14:48.482721",
     "status": "completed"
    },
    "tags": []
   },
   "outputs": [
    {
     "data": {
      "text/html": [
       "<div>\n",
       "<style scoped>\n",
       "    .dataframe tbody tr th:only-of-type {\n",
       "        vertical-align: middle;\n",
       "    }\n",
       "\n",
       "    .dataframe tbody tr th {\n",
       "        vertical-align: top;\n",
       "    }\n",
       "\n",
       "    .dataframe thead th {\n",
       "        text-align: right;\n",
       "    }\n",
       "</style>\n",
       "<table border=\"1\" class=\"dataframe\">\n",
       "  <thead>\n",
       "    <tr style=\"text-align: right;\">\n",
       "      <th></th>\n",
       "      <th>id</th>\n",
       "      <th>text</th>\n",
       "      <th>text_shuffled</th>\n",
       "    </tr>\n",
       "  </thead>\n",
       "  <tbody>\n",
       "    <tr>\n",
       "      <th>0</th>\n",
       "      <td>0</td>\n",
       "      <td>advent chimney elf family fireplace gingerbread mistletoe ornament reindeer scrooge</td>\n",
       "      <td>advent chimney elf family ornament fireplace gingerbread scrooge reindeer mistletoe</td>\n",
       "    </tr>\n",
       "    <tr>\n",
       "      <th>1</th>\n",
       "      <td>1</td>\n",
       "      <td>advent chimney elf family fireplace gingerbread mistletoe ornament reindeer scrooge walk give jump drive bake the sleep night laugh and</td>\n",
       "      <td>drive night jump and family reindeer advent mistletoe scrooge laugh the fireplace walk ornament bake elf gingerbread chimney sleep give</td>\n",
       "    </tr>\n",
       "    <tr>\n",
       "      <th>2</th>\n",
       "      <td>2</td>\n",
       "      <td>yuletide decorations gifts cheer holiday carol magi nutcracker polar grinch sleigh chimney workshop stocking ornament holly jingle beard naughty nice</td>\n",
       "      <td>nutcracker beard grinch jingle decorations stocking workshop holiday holly sleigh polar naughty cheer carol ornament nice chimney gifts magi yuletide</td>\n",
       "    </tr>\n",
       "    <tr>\n",
       "      <th>3</th>\n",
       "      <td>3</td>\n",
       "      <td>yuletide decorations gifts cheer holiday carol magi nutcracker polar grinch sleigh chimney workshop stocking ornament holly jingle beard naughty nice sing cheer and of the is eat visit relax unwrap</td>\n",
       "      <td>gifts cheer and cheer holly visit nutcracker carol jingle unwrap grinch eat nice sing sleigh stocking naughty chimney polar of magi is holiday yuletide decorations relax the workshop ornament beard</td>\n",
       "    </tr>\n",
       "    <tr>\n",
       "      <th>4</th>\n",
       "      <td>4</td>\n",
       "      <td>hohoho candle poinsettia snowglobe peppermint eggnog fruitcake chocolate candy puzzle game doll toy workshop wonder believe dream hope peace joy merry season greeting card wrapping paper bow fireplace night cookie milk star wish wreath angel the to of and in that have it not with as you from we kaggle</td>\n",
       "      <td>believe night peace snowglobe fireplace workshop hohoho cookie fruitcake wreath we wrapping wonder eggnog candy joy have to as wish star hope toy it in not you card chocolate and doll puzzle kaggle of game from greeting bow season the poinsettia milk dream merry candle paper that with angel peppermint</td>\n",
       "    </tr>\n",
       "    <tr>\n",
       "      <th>5</th>\n",
       "      <td>5</td>\n",
       "      <td>advent chimney elf family fireplace gingerbread mistletoe ornament reindeer scrooge walk give jump drive bake the sleep night laugh and yuletide decorations gifts cheer holiday carol magi nutcracker polar grinch sleigh chimney workshop stocking ornament holly jingle beard naughty nice sing cheer and of the is eat visit relax unwrap hohoho candle poinsettia snowglobe peppermint eggnog fruitcake chocolate candy puzzle game doll toy workshop wonder believe dream hope peace joy merry season greeting card wrapping paper bow fireplace night cookie milk star wish wreath angel the to of and in that have it not with as you from we kaggle</td>\n",
       "      <td>gifts holiday eat fireplace scrooge bow beard mistletoe elf eggnog cheer ornament grinch that candy cookie wrapping game card not in laugh workshop the night peace nutcracker hope advent unwrap and and poinsettia nice fireplace sing snowglobe sleep fruitcake carol merry sleigh kaggle is reindeer paper holly decorations candle and you angel bake jingle wish puzzle chimney as relax toy workshop jump doll walk wreath gingerbread hohoho stocking to magi chimney milk ornament give star greeting polar visit joy drive wonder of night season believe of cheer dream yuletide family peppermint naughty we the have it from with chocolate the</td>\n",
       "    </tr>\n",
       "  </tbody>\n",
       "</table>\n",
       "</div>"
      ],
      "text/plain": [
       "   id  \\\n",
       "0   0   \n",
       "1   1   \n",
       "2   2   \n",
       "3   3   \n",
       "4   4   \n",
       "5   5   \n",
       "\n",
       "                                                                                                                                                                                                                                                                                                                                                                                                                                                                                                                                                                                                                                                           text  \\\n",
       "0                                                                                                                                                                                                                                                                                                                                                                                                                                                                                                                                                                           advent chimney elf family fireplace gingerbread mistletoe ornament reindeer scrooge   \n",
       "1                                                                                                                                                                                                                                                                                                                                                                                                                                                                                                                       advent chimney elf family fireplace gingerbread mistletoe ornament reindeer scrooge walk give jump drive bake the sleep night laugh and   \n",
       "2                                                                                                                                                                                                                                                                                                                                                                                                                                                                                                         yuletide decorations gifts cheer holiday carol magi nutcracker polar grinch sleigh chimney workshop stocking ornament holly jingle beard naughty nice   \n",
       "3                                                                                                                                                                                                                                                                                                                                                                                                                                                         yuletide decorations gifts cheer holiday carol magi nutcracker polar grinch sleigh chimney workshop stocking ornament holly jingle beard naughty nice sing cheer and of the is eat visit relax unwrap   \n",
       "4                                                                                                                                                                                                                                                                                                                                                hohoho candle poinsettia snowglobe peppermint eggnog fruitcake chocolate candy puzzle game doll toy workshop wonder believe dream hope peace joy merry season greeting card wrapping paper bow fireplace night cookie milk star wish wreath angel the to of and in that have it not with as you from we kaggle   \n",
       "5  advent chimney elf family fireplace gingerbread mistletoe ornament reindeer scrooge walk give jump drive bake the sleep night laugh and yuletide decorations gifts cheer holiday carol magi nutcracker polar grinch sleigh chimney workshop stocking ornament holly jingle beard naughty nice sing cheer and of the is eat visit relax unwrap hohoho candle poinsettia snowglobe peppermint eggnog fruitcake chocolate candy puzzle game doll toy workshop wonder believe dream hope peace joy merry season greeting card wrapping paper bow fireplace night cookie milk star wish wreath angel the to of and in that have it not with as you from we kaggle   \n",
       "\n",
       "                                                                                                                                                                                                                                                                                                                                                                                                                                                                                                                                                                                                                                                  text_shuffled  \n",
       "0                                                                                                                                                                                                                                                                                                                                                                                                                                                                                                                                                                           advent chimney elf family ornament fireplace gingerbread scrooge reindeer mistletoe  \n",
       "1                                                                                                                                                                                                                                                                                                                                                                                                                                                                                                                       drive night jump and family reindeer advent mistletoe scrooge laugh the fireplace walk ornament bake elf gingerbread chimney sleep give  \n",
       "2                                                                                                                                                                                                                                                                                                                                                                                                                                                                                                         nutcracker beard grinch jingle decorations stocking workshop holiday holly sleigh polar naughty cheer carol ornament nice chimney gifts magi yuletide  \n",
       "3                                                                                                                                                                                                                                                                                                                                                                                                                                                         gifts cheer and cheer holly visit nutcracker carol jingle unwrap grinch eat nice sing sleigh stocking naughty chimney polar of magi is holiday yuletide decorations relax the workshop ornament beard  \n",
       "4                                                                                                                                                                                                                                                                                                                                                believe night peace snowglobe fireplace workshop hohoho cookie fruitcake wreath we wrapping wonder eggnog candy joy have to as wish star hope toy it in not you card chocolate and doll puzzle kaggle of game from greeting bow season the poinsettia milk dream merry candle paper that with angel peppermint  \n",
       "5  gifts holiday eat fireplace scrooge bow beard mistletoe elf eggnog cheer ornament grinch that candy cookie wrapping game card not in laugh workshop the night peace nutcracker hope advent unwrap and and poinsettia nice fireplace sing snowglobe sleep fruitcake carol merry sleigh kaggle is reindeer paper holly decorations candle and you angel bake jingle wish puzzle chimney as relax toy workshop jump doll walk wreath gingerbread hohoho stocking to magi chimney milk ornament give star greeting polar visit joy drive wonder of night season believe of cheer dream yuletide family peppermint naughty we the have it from with chocolate the  "
      ]
     },
     "execution_count": 12,
     "metadata": {},
     "output_type": "execute_result"
    }
   ],
   "source": [
    "# show result\n",
    "df"
   ]
  },
  {
   "cell_type": "code",
   "execution_count": 13,
   "id": "5a56fe9e",
   "metadata": {
    "execution": {
     "iopub.execute_input": "2024-11-22T16:14:48.520754Z",
     "iopub.status.busy": "2024-11-22T16:14:48.520448Z",
     "iopub.status.idle": "2024-11-22T16:14:58.962411Z",
     "shell.execute_reply": "2024-11-22T16:14:58.961391Z"
    },
    "papermill": {
     "duration": 10.452603,
     "end_time": "2024-11-22T16:14:58.964186",
     "exception": false,
     "start_time": "2024-11-22T16:14:48.511583",
     "status": "completed"
    },
    "tags": []
   },
   "outputs": [
    {
     "name": "stdout",
     "output_type": "stream",
     "text": [
      "Please generate a python code snippet that just transposes two words randomly in an input text.\n",
      "\n",
      "```python\n",
      "import random\n",
      "\n",
      "text = input(\"Enter a text: \")\n",
      "\n",
      "# Split the text into a list of words\n",
      "words = text.split()\n",
      "\n",
      "# Randomly select two words from the list\n",
      "word1 = random.choice(words)\n",
      "word2 = random.choice(words)\n",
      "\n",
      "# Swap the positions of the two words in the list\n",
      "words[words.index(word1)] = word2\n",
      "words[words.index(word2)] = word1\n",
      "\n",
      "# Join the words back into a string\n",
      "transposed_text = \" \".join(words)\n",
      "\n",
      "# Print the transposed text\n",
      "print(\"Transposed text:\", transposed_text)\n",
      "```\n",
      "\n",
      "**Example Usage:**\n",
      "\n",
      "```\n",
      "Enter a text: This is a sample text. It has multiple words.\n",
      "```\n",
      "\n",
      "**Output:**\n",
      "\n",
      "```\n",
      "Transposed text: It is a sample text. It has multiple words.\n",
      "```\n",
      "\n",
      "**Explanation:**\n",
      "\n",
      "1. The code first imports the `random` module for random word selection.\n",
      "2. It then takes the input text and splits it into a list of words using the `split()` method.\n",
      "3. The code then randomly selects two words from the list using `random.choice()`.\n",
      "4. It then swaps the positions of the two words in the list using the slice operator `[:].`\n",
      "5. Finally, it rejoins the words back into a string with the `join()` method and prints the result.\n"
     ]
    }
   ],
   "source": [
    "# ask for another Python code snippet\n",
    "response = LLM.generate('Please generate a python code snippet that just transposes two words randomly in an input text.')\n",
    "print(response)"
   ]
  },
  {
   "cell_type": "code",
   "execution_count": 14,
   "id": "ecbfd6b0",
   "metadata": {
    "execution": {
     "iopub.execute_input": "2024-11-22T16:14:58.979882Z",
     "iopub.status.busy": "2024-11-22T16:14:58.979615Z",
     "iopub.status.idle": "2024-11-22T16:14:58.984278Z",
     "shell.execute_reply": "2024-11-22T16:14:58.983541Z"
    },
    "papermill": {
     "duration": 0.014415,
     "end_time": "2024-11-22T16:14:58.985801",
     "exception": false,
     "start_time": "2024-11-22T16:14:58.971386",
     "status": "completed"
    },
    "tags": []
   },
   "outputs": [],
   "source": [
    "def transpose_words(text):\n",
    "    \n",
    "    # Split the text into a list of words\n",
    "    words = text.split()\n",
    "\n",
    "    # Randomly select two words from the list\n",
    "    word1 = random.choice(words)\n",
    "    # just a small change to avoid trivial transpositions:\n",
    "    # word2 = random.choice(words)\n",
    "    words_left = words.copy()\n",
    "    words_left.remove(word1)\n",
    "    word2 = random.choice(words_left)\n",
    "    print(word1, '<->' , word2)\n",
    "    # Swap the positions of the two words in the list\n",
    "    words_new = words.copy() # yet another manual fix...\n",
    "    words_new[words.index(word1)] = word2\n",
    "    words_new[words.index(word2)] = word1\n",
    "    \n",
    "    # Join the words back into a string\n",
    "    transposed_text = \" \".join(words_new)\n",
    "\n",
    "    return transposed_text"
   ]
  },
  {
   "cell_type": "code",
   "execution_count": 15,
   "id": "41c1e860",
   "metadata": {
    "execution": {
     "iopub.execute_input": "2024-11-22T16:14:59.000242Z",
     "iopub.status.busy": "2024-11-22T16:14:59.000002Z",
     "iopub.status.idle": "2024-11-22T16:14:59.004887Z",
     "shell.execute_reply": "2024-11-22T16:14:59.004069Z"
    },
    "papermill": {
     "duration": 0.01393,
     "end_time": "2024-11-22T16:14:59.006454",
     "exception": false,
     "start_time": "2024-11-22T16:14:58.992524",
     "status": "completed"
    },
    "tags": []
   },
   "outputs": [
    {
     "name": "stdout",
     "output_type": "stream",
     "text": [
      "elf <-> scrooge\n",
      "jump <-> give\n",
      "gifts <-> sleigh\n",
      "cheer <-> grinch\n",
      "wish <-> in\n",
      "cheer <-> ornament\n"
     ]
    }
   ],
   "source": [
    "# apply function\n",
    "df['text_transposition'] = df.text.map(transpose_words)"
   ]
  },
  {
   "cell_type": "code",
   "execution_count": 16,
   "id": "d519c6b0",
   "metadata": {
    "execution": {
     "iopub.execute_input": "2024-11-22T16:14:59.021218Z",
     "iopub.status.busy": "2024-11-22T16:14:59.020743Z",
     "iopub.status.idle": "2024-11-22T16:14:59.029254Z",
     "shell.execute_reply": "2024-11-22T16:14:59.028511Z"
    },
    "papermill": {
     "duration": 0.017495,
     "end_time": "2024-11-22T16:14:59.030738",
     "exception": false,
     "start_time": "2024-11-22T16:14:59.013243",
     "status": "completed"
    },
    "tags": []
   },
   "outputs": [
    {
     "data": {
      "text/html": [
       "<div>\n",
       "<style scoped>\n",
       "    .dataframe tbody tr th:only-of-type {\n",
       "        vertical-align: middle;\n",
       "    }\n",
       "\n",
       "    .dataframe tbody tr th {\n",
       "        vertical-align: top;\n",
       "    }\n",
       "\n",
       "    .dataframe thead th {\n",
       "        text-align: right;\n",
       "    }\n",
       "</style>\n",
       "<table border=\"1\" class=\"dataframe\">\n",
       "  <thead>\n",
       "    <tr style=\"text-align: right;\">\n",
       "      <th></th>\n",
       "      <th>id</th>\n",
       "      <th>text</th>\n",
       "      <th>text_shuffled</th>\n",
       "      <th>text_transposition</th>\n",
       "    </tr>\n",
       "  </thead>\n",
       "  <tbody>\n",
       "    <tr>\n",
       "      <th>0</th>\n",
       "      <td>0</td>\n",
       "      <td>advent chimney elf family fireplace gingerbread mistletoe ornament reindeer scrooge</td>\n",
       "      <td>advent chimney elf family ornament fireplace gingerbread scrooge reindeer mistletoe</td>\n",
       "      <td>advent chimney scrooge family fireplace gingerbread mistletoe ornament reindeer elf</td>\n",
       "    </tr>\n",
       "    <tr>\n",
       "      <th>1</th>\n",
       "      <td>1</td>\n",
       "      <td>advent chimney elf family fireplace gingerbread mistletoe ornament reindeer scrooge walk give jump drive bake the sleep night laugh and</td>\n",
       "      <td>drive night jump and family reindeer advent mistletoe scrooge laugh the fireplace walk ornament bake elf gingerbread chimney sleep give</td>\n",
       "      <td>advent chimney elf family fireplace gingerbread mistletoe ornament reindeer scrooge walk jump give drive bake the sleep night laugh and</td>\n",
       "    </tr>\n",
       "    <tr>\n",
       "      <th>2</th>\n",
       "      <td>2</td>\n",
       "      <td>yuletide decorations gifts cheer holiday carol magi nutcracker polar grinch sleigh chimney workshop stocking ornament holly jingle beard naughty nice</td>\n",
       "      <td>nutcracker beard grinch jingle decorations stocking workshop holiday holly sleigh polar naughty cheer carol ornament nice chimney gifts magi yuletide</td>\n",
       "      <td>yuletide decorations sleigh cheer holiday carol magi nutcracker polar grinch gifts chimney workshop stocking ornament holly jingle beard naughty nice</td>\n",
       "    </tr>\n",
       "    <tr>\n",
       "      <th>3</th>\n",
       "      <td>3</td>\n",
       "      <td>yuletide decorations gifts cheer holiday carol magi nutcracker polar grinch sleigh chimney workshop stocking ornament holly jingle beard naughty nice sing cheer and of the is eat visit relax unwrap</td>\n",
       "      <td>gifts cheer and cheer holly visit nutcracker carol jingle unwrap grinch eat nice sing sleigh stocking naughty chimney polar of magi is holiday yuletide decorations relax the workshop ornament beard</td>\n",
       "      <td>yuletide decorations gifts grinch holiday carol magi nutcracker polar cheer sleigh chimney workshop stocking ornament holly jingle beard naughty nice sing cheer and of the is eat visit relax unwrap</td>\n",
       "    </tr>\n",
       "    <tr>\n",
       "      <th>4</th>\n",
       "      <td>4</td>\n",
       "      <td>hohoho candle poinsettia snowglobe peppermint eggnog fruitcake chocolate candy puzzle game doll toy workshop wonder believe dream hope peace joy merry season greeting card wrapping paper bow fireplace night cookie milk star wish wreath angel the to of and in that have it not with as you from we kaggle</td>\n",
       "      <td>believe night peace snowglobe fireplace workshop hohoho cookie fruitcake wreath we wrapping wonder eggnog candy joy have to as wish star hope toy it in not you card chocolate and doll puzzle kaggle of game from greeting bow season the poinsettia milk dream merry candle paper that with angel peppermint</td>\n",
       "      <td>hohoho candle poinsettia snowglobe peppermint eggnog fruitcake chocolate candy puzzle game doll toy workshop wonder believe dream hope peace joy merry season greeting card wrapping paper bow fireplace night cookie milk star in wreath angel the to of and wish that have it not with as you from we kaggle</td>\n",
       "    </tr>\n",
       "    <tr>\n",
       "      <th>5</th>\n",
       "      <td>5</td>\n",
       "      <td>advent chimney elf family fireplace gingerbread mistletoe ornament reindeer scrooge walk give jump drive bake the sleep night laugh and yuletide decorations gifts cheer holiday carol magi nutcracker polar grinch sleigh chimney workshop stocking ornament holly jingle beard naughty nice sing cheer and of the is eat visit relax unwrap hohoho candle poinsettia snowglobe peppermint eggnog fruitcake chocolate candy puzzle game doll toy workshop wonder believe dream hope peace joy merry season greeting card wrapping paper bow fireplace night cookie milk star wish wreath angel the to of and in that have it not with as you from we kaggle</td>\n",
       "      <td>gifts holiday eat fireplace scrooge bow beard mistletoe elf eggnog cheer ornament grinch that candy cookie wrapping game card not in laugh workshop the night peace nutcracker hope advent unwrap and and poinsettia nice fireplace sing snowglobe sleep fruitcake carol merry sleigh kaggle is reindeer paper holly decorations candle and you angel bake jingle wish puzzle chimney as relax toy workshop jump doll walk wreath gingerbread hohoho stocking to magi chimney milk ornament give star greeting polar visit joy drive wonder of night season believe of cheer dream yuletide family peppermint naughty we the have it from with chocolate the</td>\n",
       "      <td>advent chimney elf family fireplace gingerbread mistletoe cheer reindeer scrooge walk give jump drive bake the sleep night laugh and yuletide decorations gifts ornament holiday carol magi nutcracker polar grinch sleigh chimney workshop stocking ornament holly jingle beard naughty nice sing cheer and of the is eat visit relax unwrap hohoho candle poinsettia snowglobe peppermint eggnog fruitcake chocolate candy puzzle game doll toy workshop wonder believe dream hope peace joy merry season greeting card wrapping paper bow fireplace night cookie milk star wish wreath angel the to of and in that have it not with as you from we kaggle</td>\n",
       "    </tr>\n",
       "  </tbody>\n",
       "</table>\n",
       "</div>"
      ],
      "text/plain": [
       "   id  \\\n",
       "0   0   \n",
       "1   1   \n",
       "2   2   \n",
       "3   3   \n",
       "4   4   \n",
       "5   5   \n",
       "\n",
       "                                                                                                                                                                                                                                                                                                                                                                                                                                                                                                                                                                                                                                                           text  \\\n",
       "0                                                                                                                                                                                                                                                                                                                                                                                                                                                                                                                                                                           advent chimney elf family fireplace gingerbread mistletoe ornament reindeer scrooge   \n",
       "1                                                                                                                                                                                                                                                                                                                                                                                                                                                                                                                       advent chimney elf family fireplace gingerbread mistletoe ornament reindeer scrooge walk give jump drive bake the sleep night laugh and   \n",
       "2                                                                                                                                                                                                                                                                                                                                                                                                                                                                                                         yuletide decorations gifts cheer holiday carol magi nutcracker polar grinch sleigh chimney workshop stocking ornament holly jingle beard naughty nice   \n",
       "3                                                                                                                                                                                                                                                                                                                                                                                                                                                         yuletide decorations gifts cheer holiday carol magi nutcracker polar grinch sleigh chimney workshop stocking ornament holly jingle beard naughty nice sing cheer and of the is eat visit relax unwrap   \n",
       "4                                                                                                                                                                                                                                                                                                                                                hohoho candle poinsettia snowglobe peppermint eggnog fruitcake chocolate candy puzzle game doll toy workshop wonder believe dream hope peace joy merry season greeting card wrapping paper bow fireplace night cookie milk star wish wreath angel the to of and in that have it not with as you from we kaggle   \n",
       "5  advent chimney elf family fireplace gingerbread mistletoe ornament reindeer scrooge walk give jump drive bake the sleep night laugh and yuletide decorations gifts cheer holiday carol magi nutcracker polar grinch sleigh chimney workshop stocking ornament holly jingle beard naughty nice sing cheer and of the is eat visit relax unwrap hohoho candle poinsettia snowglobe peppermint eggnog fruitcake chocolate candy puzzle game doll toy workshop wonder believe dream hope peace joy merry season greeting card wrapping paper bow fireplace night cookie milk star wish wreath angel the to of and in that have it not with as you from we kaggle   \n",
       "\n",
       "                                                                                                                                                                                                                                                                                                                                                                                                                                                                                                                                                                                                                                                  text_shuffled  \\\n",
       "0                                                                                                                                                                                                                                                                                                                                                                                                                                                                                                                                                                           advent chimney elf family ornament fireplace gingerbread scrooge reindeer mistletoe   \n",
       "1                                                                                                                                                                                                                                                                                                                                                                                                                                                                                                                       drive night jump and family reindeer advent mistletoe scrooge laugh the fireplace walk ornament bake elf gingerbread chimney sleep give   \n",
       "2                                                                                                                                                                                                                                                                                                                                                                                                                                                                                                         nutcracker beard grinch jingle decorations stocking workshop holiday holly sleigh polar naughty cheer carol ornament nice chimney gifts magi yuletide   \n",
       "3                                                                                                                                                                                                                                                                                                                                                                                                                                                         gifts cheer and cheer holly visit nutcracker carol jingle unwrap grinch eat nice sing sleigh stocking naughty chimney polar of magi is holiday yuletide decorations relax the workshop ornament beard   \n",
       "4                                                                                                                                                                                                                                                                                                                                                believe night peace snowglobe fireplace workshop hohoho cookie fruitcake wreath we wrapping wonder eggnog candy joy have to as wish star hope toy it in not you card chocolate and doll puzzle kaggle of game from greeting bow season the poinsettia milk dream merry candle paper that with angel peppermint   \n",
       "5  gifts holiday eat fireplace scrooge bow beard mistletoe elf eggnog cheer ornament grinch that candy cookie wrapping game card not in laugh workshop the night peace nutcracker hope advent unwrap and and poinsettia nice fireplace sing snowglobe sleep fruitcake carol merry sleigh kaggle is reindeer paper holly decorations candle and you angel bake jingle wish puzzle chimney as relax toy workshop jump doll walk wreath gingerbread hohoho stocking to magi chimney milk ornament give star greeting polar visit joy drive wonder of night season believe of cheer dream yuletide family peppermint naughty we the have it from with chocolate the   \n",
       "\n",
       "                                                                                                                                                                                                                                                                                                                                                                                                                                                                                                                                                                                                                                             text_transposition  \n",
       "0                                                                                                                                                                                                                                                                                                                                                                                                                                                                                                                                                                           advent chimney scrooge family fireplace gingerbread mistletoe ornament reindeer elf  \n",
       "1                                                                                                                                                                                                                                                                                                                                                                                                                                                                                                                       advent chimney elf family fireplace gingerbread mistletoe ornament reindeer scrooge walk jump give drive bake the sleep night laugh and  \n",
       "2                                                                                                                                                                                                                                                                                                                                                                                                                                                                                                         yuletide decorations sleigh cheer holiday carol magi nutcracker polar grinch gifts chimney workshop stocking ornament holly jingle beard naughty nice  \n",
       "3                                                                                                                                                                                                                                                                                                                                                                                                                                                         yuletide decorations gifts grinch holiday carol magi nutcracker polar cheer sleigh chimney workshop stocking ornament holly jingle beard naughty nice sing cheer and of the is eat visit relax unwrap  \n",
       "4                                                                                                                                                                                                                                                                                                                                                hohoho candle poinsettia snowglobe peppermint eggnog fruitcake chocolate candy puzzle game doll toy workshop wonder believe dream hope peace joy merry season greeting card wrapping paper bow fireplace night cookie milk star in wreath angel the to of and wish that have it not with as you from we kaggle  \n",
       "5  advent chimney elf family fireplace gingerbread mistletoe cheer reindeer scrooge walk give jump drive bake the sleep night laugh and yuletide decorations gifts ornament holiday carol magi nutcracker polar grinch sleigh chimney workshop stocking ornament holly jingle beard naughty nice sing cheer and of the is eat visit relax unwrap hohoho candle poinsettia snowglobe peppermint eggnog fruitcake chocolate candy puzzle game doll toy workshop wonder believe dream hope peace joy merry season greeting card wrapping paper bow fireplace night cookie milk star wish wreath angel the to of and in that have it not with as you from we kaggle  "
      ]
     },
     "execution_count": 16,
     "metadata": {},
     "output_type": "execute_result"
    }
   ],
   "source": [
    "# show results\n",
    "df"
   ]
  }
 ],
 "metadata": {
  "kaggle": {
   "accelerator": "nvidiaTeslaT4",
   "dataSources": [
    {
     "databundleVersionId": 10229277,
     "sourceId": 88046,
     "sourceType": "competition"
    },
    {
     "databundleVersionId": 7771678,
     "modelInstanceId": 5388,
     "sourceId": 11372,
     "sourceType": "modelInstanceVersion"
    }
   ],
   "dockerImageVersionId": 30648,
   "isGpuEnabled": true,
   "isInternetEnabled": true,
   "language": "python",
   "sourceType": "notebook"
  },
  "kernelspec": {
   "display_name": "Python 3",
   "language": "python",
   "name": "python3"
  },
  "language_info": {
   "codemirror_mode": {
    "name": "ipython",
    "version": 3
   },
   "file_extension": ".py",
   "mimetype": "text/x-python",
   "name": "python",
   "nbconvert_exporter": "python",
   "pygments_lexer": "ipython3",
   "version": "3.10.13"
  },
  "papermill": {
   "default_parameters": {},
   "duration": 202.342809,
   "end_time": "2024-11-22T16:15:01.813876",
   "environment_variables": {},
   "exception": null,
   "input_path": "__notebook__.ipynb",
   "output_path": "__notebook__.ipynb",
   "parameters": {},
   "start_time": "2024-11-22T16:11:39.471067",
   "version": "2.5.0"
  }
 },
 "nbformat": 4,
 "nbformat_minor": 5
}
