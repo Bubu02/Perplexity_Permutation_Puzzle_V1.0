{
 "cells": [
  {
   "cell_type": "code",
   "execution_count": 13,
   "metadata": {},
   "outputs": [
    {
     "data": {
      "text/html": [
       "<div>\n",
       "<style scoped>\n",
       "    .dataframe tbody tr th:only-of-type {\n",
       "        vertical-align: middle;\n",
       "    }\n",
       "\n",
       "    .dataframe tbody tr th {\n",
       "        vertical-align: top;\n",
       "    }\n",
       "\n",
       "    .dataframe thead th {\n",
       "        text-align: right;\n",
       "    }\n",
       "</style>\n",
       "<table border=\"1\" class=\"dataframe\">\n",
       "  <thead>\n",
       "    <tr style=\"text-align: right;\">\n",
       "      <th></th>\n",
       "      <th>id</th>\n",
       "      <th>text</th>\n",
       "    </tr>\n",
       "  </thead>\n",
       "  <tbody>\n",
       "    <tr>\n",
       "      <th>0</th>\n",
       "      <td>0</td>\n",
       "      <td>advent chimney elf family fireplace gingerbread mistletoe ornament reindeer scrooge</td>\n",
       "    </tr>\n",
       "    <tr>\n",
       "      <th>1</th>\n",
       "      <td>1</td>\n",
       "      <td>advent chimney elf family fireplace gingerbread mistletoe ornament reindeer scrooge walk give jump drive bake the sleep night laugh and</td>\n",
       "    </tr>\n",
       "    <tr>\n",
       "      <th>2</th>\n",
       "      <td>2</td>\n",
       "      <td>yuletide decorations gifts cheer holiday carol magi nutcracker polar grinch sleigh chimney workshop stocking ornament holly jingle beard naughty nice</td>\n",
       "    </tr>\n",
       "    <tr>\n",
       "      <th>3</th>\n",
       "      <td>3</td>\n",
       "      <td>yuletide decorations gifts cheer holiday carol magi nutcracker polar grinch sleigh chimney workshop stocking ornament holly jingle beard naughty nice sing cheer and of the is eat visit relax unwrap</td>\n",
       "    </tr>\n",
       "    <tr>\n",
       "      <th>4</th>\n",
       "      <td>4</td>\n",
       "      <td>hohoho candle poinsettia snowglobe peppermint eggnog fruitcake chocolate candy puzzle game doll toy workshop wonder believe dream hope peace joy merry season greeting card wrapping paper bow fireplace night cookie milk star wish wreath angel the to of and in that have it not with as you from we kaggle</td>\n",
       "    </tr>\n",
       "    <tr>\n",
       "      <th>5</th>\n",
       "      <td>5</td>\n",
       "      <td>advent chimney elf family fireplace gingerbread mistletoe ornament reindeer scrooge walk give jump drive bake the sleep night laugh and yuletide decorations gifts cheer holiday carol magi nutcracker polar grinch sleigh chimney workshop stocking ornament holly jingle beard naughty nice sing cheer and of the is eat visit relax unwrap hohoho candle poinsettia snowglobe peppermint eggnog fruitcake chocolate candy puzzle game doll toy workshop wonder believe dream hope peace joy merry season greeting card wrapping paper bow fireplace night cookie milk star wish wreath angel the to of and in that have it not with as you from we kaggle</td>\n",
       "    </tr>\n",
       "  </tbody>\n",
       "</table>\n",
       "</div>"
      ],
      "text/plain": [
       "   id  \\\n",
       "0   0   \n",
       "1   1   \n",
       "2   2   \n",
       "3   3   \n",
       "4   4   \n",
       "5   5   \n",
       "\n",
       "                                                                                                                                                                                                                                                                                                                                                                                                                                                                                                                                                                                                                                                           text  \n",
       "0                                                                                                                                                                                                                                                                                                                                                                                                                                                                                                                                                                           advent chimney elf family fireplace gingerbread mistletoe ornament reindeer scrooge  \n",
       "1                                                                                                                                                                                                                                                                                                                                                                                                                                                                                                                       advent chimney elf family fireplace gingerbread mistletoe ornament reindeer scrooge walk give jump drive bake the sleep night laugh and  \n",
       "2                                                                                                                                                                                                                                                                                                                                                                                                                                                                                                         yuletide decorations gifts cheer holiday carol magi nutcracker polar grinch sleigh chimney workshop stocking ornament holly jingle beard naughty nice  \n",
       "3                                                                                                                                                                                                                                                                                                                                                                                                                                                         yuletide decorations gifts cheer holiday carol magi nutcracker polar grinch sleigh chimney workshop stocking ornament holly jingle beard naughty nice sing cheer and of the is eat visit relax unwrap  \n",
       "4                                                                                                                                                                                                                                                                                                                                                hohoho candle poinsettia snowglobe peppermint eggnog fruitcake chocolate candy puzzle game doll toy workshop wonder believe dream hope peace joy merry season greeting card wrapping paper bow fireplace night cookie milk star wish wreath angel the to of and in that have it not with as you from we kaggle  \n",
       "5  advent chimney elf family fireplace gingerbread mistletoe ornament reindeer scrooge walk give jump drive bake the sleep night laugh and yuletide decorations gifts cheer holiday carol magi nutcracker polar grinch sleigh chimney workshop stocking ornament holly jingle beard naughty nice sing cheer and of the is eat visit relax unwrap hohoho candle poinsettia snowglobe peppermint eggnog fruitcake chocolate candy puzzle game doll toy workshop wonder believe dream hope peace joy merry season greeting card wrapping paper bow fireplace night cookie milk star wish wreath angel the to of and in that have it not with as you from we kaggle  "
      ]
     },
     "execution_count": 13,
     "metadata": {},
     "output_type": "execute_result"
    }
   ],
   "source": [
    "import pandas as pd\n",
    "import spacy\n",
    "\n",
    "# Load spaCy's English language model \n",
    "nlp = spacy.load('en_core_web_sm')\n",
    "\n",
    "# adjusting display options\n",
    "pd.set_option('display.max_colwidth', None)\n",
    "\n",
    "df = pd.read_csv('../Dataset/sample_submission.csv')\n",
    "n_rows = df.shape[0]\n",
    "df"
   ]
  },
  {
   "cell_type": "markdown",
   "metadata": {},
   "source": [
    "### Tokenizing the text"
   ]
  },
  {
   "cell_type": "code",
   "execution_count": 14,
   "metadata": {},
   "outputs": [],
   "source": [
    "# from nltk.tokenize import word_tokenize\n",
    "\n",
    "# # Tokenize the text and convert to lowercase\n",
    "# df['tokens'] = df['text'].apply(lambda x: word_tokenize(x.lower()))\n",
    "\n",
    "# # Display the tokenized words\n",
    "# print(\"Tokenized Data:\\n\", df.head())\n",
    "\n",
    "# # Save tokenized text to a text file\n",
    "# with open('tokenized_text.txt', 'w') as f:\n",
    "#     for tokens in df['tokens']:\n",
    "#         # Join the tokens back into a single string for each line\n",
    "#         line = ' '.join(tokens)\n",
    "#         f.write(line + '\\n')\n",
    "\n",
    "# print(\"Tokenized text saved to tokenized_text.txt\")"
   ]
  },
  {
   "cell_type": "code",
   "execution_count": 15,
   "metadata": {},
   "outputs": [
    {
     "name": "stdout",
     "output_type": "stream",
     "text": [
      "Tokenized Data:\n",
      "    id  \\\n",
      "0   0   \n",
      "1   1   \n",
      "2   2   \n",
      "3   3   \n",
      "4   4   \n",
      "\n",
      "                                                                                                                                                                                                                                                                                                             text  \\\n",
      "0                                                                                                                                                                                                                             advent chimney elf family fireplace gingerbread mistletoe ornament reindeer scrooge   \n",
      "1                                                                                                                                                                         advent chimney elf family fireplace gingerbread mistletoe ornament reindeer scrooge walk give jump drive bake the sleep night laugh and   \n",
      "2                                                                                                                                                           yuletide decorations gifts cheer holiday carol magi nutcracker polar grinch sleigh chimney workshop stocking ornament holly jingle beard naughty nice   \n",
      "3                                                                                                           yuletide decorations gifts cheer holiday carol magi nutcracker polar grinch sleigh chimney workshop stocking ornament holly jingle beard naughty nice sing cheer and of the is eat visit relax unwrap   \n",
      "4  hohoho candle poinsettia snowglobe peppermint eggnog fruitcake chocolate candy puzzle game doll toy workshop wonder believe dream hope peace joy merry season greeting card wrapping paper bow fireplace night cookie milk star wish wreath angel the to of and in that have it not with as you from we kaggle   \n",
      "\n",
      "                                                                                                                                                                                                                                                                                                                                                              tokens  \n",
      "0                                                                                                                                                                                                                                                                     [advent, chimney, elf, family, fireplace, gingerbread, mistletoe, ornament, reindeer, scrooge]  \n",
      "1                                                                                                                                                                                                       [advent, chimney, elf, family, fireplace, gingerbread, mistletoe, ornament, reindeer, scrooge, walk, give, jump, drive, bake, the, sleep, night, laugh, and]  \n",
      "2                                                                                                                                                                                         [yuletide, decorations, gifts, cheer, holiday, carol, magi, nutcracker, polar, grinch, sleigh, chimney, workshop, stocking, ornament, holly, jingle, beard, naughty, nice]  \n",
      "3                                                                                                                               [yuletide, decorations, gifts, cheer, holiday, carol, magi, nutcracker, polar, grinch, sleigh, chimney, workshop, stocking, ornament, holly, jingle, beard, naughty, nice, sing, cheer, and, of, the, is, eat, visit, relax, unwrap]  \n",
      "4  [hohoho, candle, poinsettia, snowglobe, peppermint, eggnog, fruitcake, chocolate, candy, puzzle, game, doll, toy, workshop, wonder, believe, dream, hope, peace, joy, merry, season, greeting, card, wrapping, paper, bow, fireplace, night, cookie, milk, star, wish, wreath, angel, the, to, of, and, in, that, have, it, not, with, as, you, from, we, kaggle]  \n"
     ]
    }
   ],
   "source": [
    "# Tokenize the text using spaCy\n",
    "def spacy_tokenize(text):\n",
    "    doc = nlp(text.lower())\n",
    "    return [token.text for token in doc]\n",
    "\n",
    "df['tokens'] = df['text'].apply(spacy_tokenize)\n",
    "\n",
    "# Display the tokenized words\n",
    "print(\"Tokenized Data:\\n\", df.head())\n"
   ]
  },
  {
   "cell_type": "code",
   "execution_count": 16,
   "metadata": {},
   "outputs": [
    {
     "name": "stdout",
     "output_type": "stream",
     "text": [
      "Tokenized text saved to tokenized_text.txt\n"
     ]
    }
   ],
   "source": [
    "# Save tokenized text to a text file\n",
    "with open('../Tokens/tokenized_text.txt', 'w') as f:\n",
    "    for tokens in df['tokens']:\n",
    "        # Join the tokens back into a single string for each line\n",
    "        line = ' '.join(tokens)\n",
    "        f.write(line + '\\n')\n",
    "\n",
    "print(\"Tokenized text saved to tokenized_text.txt\")"
   ]
  }
 ],
 "metadata": {
  "kernelspec": {
   "display_name": "Kaggle",
   "language": "python",
   "name": "python3"
  },
  "language_info": {
   "codemirror_mode": {
    "name": "ipython",
    "version": 3
   },
   "file_extension": ".py",
   "mimetype": "text/x-python",
   "name": "python",
   "nbconvert_exporter": "python",
   "pygments_lexer": "ipython3",
   "version": "3.12.7"
  }
 },
 "nbformat": 4,
 "nbformat_minor": 2
}
